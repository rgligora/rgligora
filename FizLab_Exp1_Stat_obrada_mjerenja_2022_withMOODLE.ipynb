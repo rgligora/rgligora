{
  "cells": [
    {
      "cell_type": "markdown",
      "metadata": {
        "id": "view-in-github",
        "colab_type": "text"
      },
      "source": [
        "<a href=\"https://colab.research.google.com/github/rgligora/rgligora/blob/main/FizLab_Exp1_Stat_obrada_mjerenja_2022_withMOODLE.ipynb\" target=\"_parent\"><img src=\"https://colab.research.google.com/assets/colab-badge.svg\" alt=\"Open In Colab\"/></a>"
      ]
    },
    {
      "cell_type": "markdown",
      "metadata": {
        "id": "Cz6enfn_O8di"
      },
      "source": [
        "<img src=\"http://galileo.zpf.fer.hr/img/logo-lab-Fizika-v3.jpeg\" style=\"height: 90px;\">\n",
        "\n",
        "\n",
        "# Vježba 1: Uvod u statističku obradu mjerenja\n",
        "\n",
        "U ovoj vježbi ćete proći osnovne pojmove vezane uz mjerenja i njihovu nesigurnost, u obimu koji je potreban za uspješno savladavanje laboratorijskih vježbi iz Fizike.\n",
        "\n",
        "Kroz radnu bilježnicu ćete:\n",
        "* računati srednju vrijednost, varijancu i varijancu srednje vrijednosti skupa mjerenja, \n",
        "* provjeriti vezu opisnih statistika i parametara normalne (Gaussove) raspodjele,\n",
        "* računati očekivanu vrijednost i nesigurnost posredno mjerene fizikalne veličine,\n",
        "* pomoću metode najmanjih kvadrata odrediti parametare linearnog modela i njihove nesigurnosti. \n",
        "\n",
        "Za referentni tekst odabrana je publikacija JCGM-a (Joint Committee for Guides in Metrology) JCGM 100:2008 Vrednovanje mjernih podataka -- Upute za iskazivanje mjerne nesigurnosti (https://dzm.gov.hr/UserDocsImages/Zakonsko%20mjeriteljstvo/Publikacije/mjerna_nesigurnost.pdf). \n",
        "\n",
        "\n",
        "\n",
        "## Prije nego što počnete:\n",
        "\n",
        "* Naredbe u ćeliji (koju ste odabrali) se izvršavaju pomoću **'Run'** gumba gore (▶︎) ili pomoću **'ctrl+Enter'**.\n",
        "* Prije nego što krenete dalje s vježbom, izvršite sljedeću ćeliju i učitajte potrebne biblioteke.\n",
        "\n",
        "## Što se od mene očekuje?\n",
        "\n",
        "* **Sve UPUTE** pažljivo čitajte i slijedite. \n",
        "* **Kod** za koji piše da 'Izvršite bez izmjena' **NIJE potrebno čitati.**\n",
        "* Samo na **nekoliko** označenih mjesta trebate upisivati svoj kod. Ostatak bilježnice je pripremljen.\n",
        "* Prođite 8 zadataka i unesite tražena rješenja u test <a href=\"https://moodle.fer.hr/mod/quiz/view.php?id=11691\"> Vježba 1 - Uvod u statističku obradu mjerenja</a> na moodle dijelu kolegija.\n",
        "* U svom terminu 1. laboratorijske vježbe potražite pomoć od asistenata (ne brinite, svima se dogodi da ne mogu pronaći gdje je greška). Budite spremni pokazati i diskutirati rezultate s asistentima.\n",
        "\n",
        "_Autor: A. Babić 2018-2022 (ana.babic@fer.hr)_"
      ]
    },
    {
      "cell_type": "markdown",
      "metadata": {
        "id": "kW0I7PC6O8dm"
      },
      "source": [
        "#### Učitajte potrebne biblioteke"
      ]
    },
    {
      "cell_type": "code",
      "execution_count": 2,
      "metadata": {
        "id": "1MPvRhk6O8dm"
      },
      "outputs": [],
      "source": [
        "%matplotlib inline\n",
        "import numpy as np\n",
        "import pandas as pd\n",
        "import matplotlib.pyplot as plt\n",
        "from scipy import stats\n",
        "import scipy\n",
        "import random"
      ]
    },
    {
      "cell_type": "markdown",
      "metadata": {
        "id": "8YHvib5bO8dn"
      },
      "source": [
        "---\n",
        "# 1. Srednja vrijednost i nesigurnost *N* mjerenja\n",
        "\n",
        "Uzmite da vam je zadatak izmjeriti neku fizikalnu veličinu $x$ te da ste napravili $N$ nezavisnih\\* mjerenja te veličine $x_i$.\n",
        "\n",
        "Iz mjerenih vrijednosti ćemo prvo izračunati dvije osnovne statistike\\*\\*: srednju vrijednost i varijancu skupa mjerenja. U drugom dijelu vidjet ćemo zašto se baš ove dvije mjere najčešće koriste i njihovu vezu s normalnom (Gaussovom) raspodjelom.\n",
        "\n",
        "#### Srednja vrijednost  $\\overline{x}$\n",
        "\n",
        "Najčešće korištena mjera lokacije skupa podataka je **Srednja vrijednost** $\\overline{x}$. Za $N$ mjerenja $x_i$  dana je izrazom\n",
        "\n",
        "$$ \\overline{x} = \\frac{1}{N}\\sum_{i=1}^{N}x_i$$\n",
        "\n",
        "\n",
        "#### Varijanca skupa mjerenja $s^2$\n",
        "\n",
        "Jedna od osnovnih mjera raspršenja za skup podataka (raspršenje skupa podataka oko srednje vrijednosti ili neke druge mjere lokacije) je **varijanca $s^2$ skupa podataka** $x_i$, koja je dana izrazom:\n",
        "\n",
        "$$ s^2 = \\frac{1}{N-1}\\sum_{i=1}^{N}(x_i-\\overline{x} )^2 $$\n",
        "\n",
        "#### Standardna devijacija skupa mjerenja $s$\n",
        "\n",
        "Iako je varijanca osnovnija veličina, uz srednju vrijednost skupa podataka uobičajeno je napisati korijen varijance $s$ koji se naziva i **standardna devijacija skupa podataka**, jer: izražava se u istim jedinicama kao i mjerena veličina, jednostavnije se uspoređuje sa srednjom vrijednosti $\\overline{x}$ i direktno je povezana s parametrom $\\sigma$ normalne razdiobe, tj. standardnom devijacijom.\n",
        "\n",
        "---\n",
        "  \\* Rezultat prethodnog mjerenja ne utječe na sljedeće mjerenje iste veličine.\n",
        "  \n",
        "  \\*\\* Statistika je bilo koja funkcija slučajnih varijabli uzorka. Odnose se samo na mjerenja, nije potrebno pretpostaviti model za mjerenu veličinu niti njezinu razdiobu."
      ]
    },
    {
      "cell_type": "markdown",
      "metadata": {
        "id": "MZnQU6GSO8do"
      },
      "source": [
        "### 1.1. U sljedeću ćeliju kopirajte* zadani skup mjerenja \n",
        "\n",
        "Svoj skup mjerenja pronaći ćete na **moodle** dijelu kolegija Fizika.  \n",
        "* U dijelu **Uvodna laboratorijska vježba**, \n",
        "* otvorite test **Vjezba 1 - Uvod u statističku obradu mjerenja**, \n",
        "* otvorite prvi zadatak i dolje kopirajte zadane podatke.\n",
        "---\n",
        "  \\* Kasnije ćemo podatke direktno učitavati. Sada želimo da vidite jednostavni primjer 'ručno' unesenih podataka."
      ]
    },
    {
      "cell_type": "code",
      "execution_count": 3,
      "metadata": {
        "id": "WPjEQHURO8dp"
      },
      "outputs": [],
      "source": [
        "# Kopirajte ovdje skup mjerenja koji vam je zadan\n",
        "# mojiPodatci = np.array([ ..ovdje vaša lista brojeva, npr. 1,2,3,.. ])\n",
        "mojiPodatci = np.array([ 14.387421212121213, 14.595054545454547, 14.54668787878788, 14.66228787878788, 14.48312121212121, 14.413954545454548,  \n",
        "14.438121212121214, 14.494754545454546, 14.494954545454545, 14.478987878787878, 14.495754545454547, 14.703954545454543,  \n",
        "14.520787878787882, 14.498821212121214, 14.626954545454543, 14.52972121212121, 14.501521212121212, 14.414154545454545,  \n",
        "14.44838787878788, 14.51708787878788, 14.447887878787878, 14.419321212121213, 14.472554545454544, 14.519387878787882,  \n",
        "14.515121212121212, 14.45318787878788, 14.477587878787878, 14.382121212121213, 14.456254545454545, 14.452087878787879 ])"
      ]
    },
    {
      "cell_type": "markdown",
      "metadata": {
        "id": "CbtfsLk6O8dp"
      },
      "source": [
        "### 1.2. Sada sami napišite funkciju i izračunajte srednju vrijednost svog skupa podataka\n",
        "\n",
        "* Za račun srednje vrijednosti $ \\overline{x} = \\frac{1}{N}\\sum_{i=1}^{N}x_i$ možete upotrijebiti dvije metode: \n",
        "\n",
        "     * **`len`** za broj mjerenja u skupu\n",
        "     * **`sum`** za zbroj svih vrijednosti u skupu"
      ]
    },
    {
      "cell_type": "code",
      "execution_count": 4,
      "metadata": {
        "colab": {
          "base_uri": "https://localhost:8080/"
        },
        "id": "MfAS2IadO8dp",
        "outputId": "cf029807-2abb-44dc-8066-f93a743eb96f"
      },
      "outputs": [
        {
          "output_type": "execute_result",
          "data": {
            "text/plain": [
              "30"
            ]
          },
          "metadata": {},
          "execution_count": 4
        }
      ],
      "source": [
        "# duljina liste:\n",
        "len(mojiPodatci)"
      ]
    },
    {
      "cell_type": "code",
      "execution_count": 5,
      "metadata": {
        "colab": {
          "base_uri": "https://localhost:8080/"
        },
        "id": "l4SugBl2O8dq",
        "outputId": "93a9cbcc-0bb4-4a29-ac26-6b016809bdb6"
      },
      "outputs": [
        {
          "output_type": "execute_result",
          "data": {
            "text/plain": [
              "434.848003030303"
            ]
          },
          "metadata": {},
          "execution_count": 5
        }
      ],
      "source": [
        "# zbroj svih mjerenja:\n",
        "sum(mojiPodatci)"
      ]
    },
    {
      "cell_type": "markdown",
      "metadata": {
        "id": "wN_qmxbYO8dq"
      },
      "source": [
        "<div style =  \"background-color:#cce698\">\n",
        "**Zadatak 1**: Izračunajte srednju vrijednost svog skupa podataka. Rezultat unesite u zadatak na moodle-u.\n",
        "</div>"
      ]
    },
    {
      "cell_type": "code",
      "execution_count": 8,
      "metadata": {
        "colab": {
          "base_uri": "https://localhost:8080/"
        },
        "id": "63soLkZMO8dq",
        "outputId": "d08dd065-86fe-4792-9f93-c0e63cba0325"
      },
      "outputs": [
        {
          "output_type": "execute_result",
          "data": {
            "text/plain": [
              "14.494933434343434"
            ]
          },
          "metadata": {},
          "execution_count": 8
        }
      ],
      "source": [
        "# Ovdje sami napišite funkciju i izračunajte srednju vrijednost svog skupa podataka\n",
        "srednjaVrijednost = sum(mojiPodatci) / len(mojiPodatci) \n",
        "srednjaVrijednost # ispišite vrijednost"
      ]
    },
    {
      "cell_type": "markdown",
      "metadata": {
        "id": "IIfXnyDaO8dr"
      },
      "source": [
        "### 1.3. Sami napišite funkciju i izračunajte varijancu svog skupa podataka\n",
        "\n",
        "* Za račun varijance skupa  $ s^2 = \\frac{1}{N-1}\\sum_{i=1}^{N}(x_i-\\overline{x} )^2 $  korisni će vam biti sljedeći primjeri računanja s numpy arrays: \n",
        "\n",
        "     * dodavanje/oduzimanje broja od np.array\n",
        "     * računske operacije s dva np.array (u ovom slučaju množenje)"
      ]
    },
    {
      "cell_type": "code",
      "execution_count": null,
      "metadata": {
        "jupyter": {
          "outputs_hidden": true
        },
        "id": "43ceYuugO8dr"
      },
      "outputs": [],
      "source": [
        "# Primjer: dodavanje konstantne vrijednosti\n",
        "mojiPodatci + 100."
      ]
    },
    {
      "cell_type": "code",
      "execution_count": null,
      "metadata": {
        "jupyter": {
          "outputs_hidden": true
        },
        "id": "ioztsN3mO8ds"
      },
      "outputs": [],
      "source": [
        "# Primjer: množenje dva np.array\n",
        "(mojiPodatci + 100.)*mojiPodatci"
      ]
    },
    {
      "cell_type": "markdown",
      "metadata": {
        "id": "6L5YlgVcO8ds"
      },
      "source": [
        "<div style =  \"background-color:#cce698\">\n",
        "**Zadatak 2**: Izračunajte varijancu i standardnu devijaciju svog skupa podataka.\n",
        "</div>"
      ]
    },
    {
      "cell_type": "code",
      "execution_count": 11,
      "metadata": {
        "colab": {
          "base_uri": "https://localhost:8080/"
        },
        "id": "Y111SR-EO8ds",
        "outputId": "0a4aa76e-b5f2-47ec-fbe0-f8eabfef70ce"
      },
      "outputs": [
        {
          "output_type": "execute_result",
          "data": {
            "text/plain": [
              "0.005594026627075311"
            ]
          },
          "metadata": {},
          "execution_count": 11
        }
      ],
      "source": [
        "# Ovdje sami napišite funkciju i izračunajte varijancu svog skupa podataka\n",
        "# Koristite prethodno izračunatu srednju vrijednost 'srednjaVrijednost', te oduzimanje broja od np.array, \n",
        "# množenje dva np.array i konačno sumu elemenata sum()\n",
        "odstupanje = (mojiPodatci - srednjaVrijednost)\n",
        "Varijanca = sum((mojiPodatci - srednjaVrijednost)*(mojiPodatci - srednjaVrijednost)) / (len(mojiPodatci) - 1)\n",
        "Varijanca"
      ]
    },
    {
      "cell_type": "code",
      "execution_count": 12,
      "metadata": {
        "colab": {
          "base_uri": "https://localhost:8080/"
        },
        "id": "SlzutPx8O8dt",
        "outputId": "e85709b0-7383-4e23-8977-735b8f3fe073"
      },
      "outputs": [
        {
          "output_type": "execute_result",
          "data": {
            "text/plain": [
              "0.07479322581006459"
            ]
          },
          "metadata": {},
          "execution_count": 12
        }
      ],
      "source": [
        "# Izračunajte standardnu devijaciju skupa, korijen od x je np.sqrt(x):\n",
        "StdDev = np.sqrt( Varijanca )\n",
        "StdDev # ispišite vrijednost"
      ]
    },
    {
      "cell_type": "markdown",
      "metadata": {
        "id": "af7pWa5WO8dt"
      },
      "source": [
        "### 1.4. Provjerite:\n",
        "* kako izgleda raspodjela vaših podataka \n",
        "* u kakvom su u odnosu s tom raspodjelom veličine koje ste upravo izračunali ('opisne statistike')\n",
        "\n",
        "Ako niste mijenjali imena varijabli gore (mojiPodatci, srednjaVrijednost, Varijanca), **NIJE potrebno raditi izmjene** u donjoj ćeliji."
      ]
    },
    {
      "cell_type": "code",
      "execution_count": null,
      "metadata": {
        "id": "msBXoou3O8dt"
      },
      "outputs": [],
      "source": [
        "# IZVRŠITE BEZ IZMJENA -------------\n",
        "\n",
        "broj_binova = 30\n",
        "fig, ax = plt.subplots(figsize=(9,6))\n",
        "x = mojiPodatci\n",
        "n, bins, vals = ax.hist(x, broj_binova, density=False)\n",
        "ax.set_xlabel('Srednja jačina potresa (bezdimenzionalno!)')\n",
        "ax.set_ylabel('Broj')\n",
        "ax.set_title('Histogram mjerenja')\n",
        "ymin, ymax = ax.get_ylim()  # Granice y-osi\n",
        "# lokacija srednje vrijednosti\n",
        "ax.axvline(srednjaVrijednost, linestyle='dashed',color='red')\n",
        "ax.text(srednjaVrijednost, ymax*0.7, r'$\\overline{x}$',ha='right', va='top',rotation=90, size=10)\n",
        "# mjera širine: korijen iz varijance\n",
        "desno = srednjaVrijednost+np.sqrt(Varijanca)\n",
        "ax.axvline(desno, linestyle='dotted',color='green')\n",
        "ax.text(desno, ymax*0.7, r'$\\overline{x}+s$',ha='right', va='top',rotation=90, size=10)\n",
        "lijevo = srednjaVrijednost-np.sqrt(Varijanca)\n",
        "ax.axvline(lijevo, linestyle='dotted',color='green')\n",
        "ax.text(lijevo, ymax*0.7, r'$\\overline{x}-s$',ha='right', va='top',rotation=90, size=10)\n",
        "plt.show()\n",
        "plt.close(fig)"
      ]
    },
    {
      "cell_type": "markdown",
      "metadata": {
        "id": "0ppk4V6ZO8du"
      },
      "source": [
        "### 1.5. Varijanca srednje vrijednosti i zapis rezultata mjerenja\n",
        "\n",
        "Povećavanjem broja nezavisnih mjerenja neće se bitno mijenjati rasipanje (širina) skupa podataka, \n",
        "ali će srednja vrijednost biti sve bolje određena. Nesigurnost određivanja srednje vrijednosti veličine koju smo \n",
        "mjerili više puta zovemo **varijanca srednje \n",
        "vrijednosti skupa mjerenja** $s^2(\\overline{x})$:\n",
        "\n",
        "$$ s^2 (\\overline{x}) \n",
        "= \\frac{s^2}{N}\n",
        "= \\frac{1}{N(N-1)}\\sum_{i=1}^{N}(x_i-\\overline{x} )^2\n",
        "$$\n",
        "\n",
        "Kao i za varijancu skupa podataka,\n",
        "s rezultatom se obično daje **standradna devijacija srednje vrijednosti $s (\\overline{x}) $**, koja je korijen varijance srednje vrijednosti.\n",
        "\n",
        "\n",
        "### 1.6. Za direktno mjerene veličine određene iz niza mjerenja, na laboratorijskim vježbama će vaš rezultat biti zapisan:\n",
        "\n",
        "$x_\\mathrm{mjer.} = (\\overline{x} \\pm s(\\overline{x}))$  [mjerna jedinica] ,\n",
        "\n",
        "gdje je $s(\\overline{x}) = \\sqrt{\\mathrm{varijanca}(\\overline{x})}$, a $\\overline{x}$ i $s_x$ moraju biti zaokruženi do druge značajne znamenke od $s_x$.\n",
        "\n",
        "<br>\n",
        "<div style =  \"background-color:#cce698\">\n",
        "**Zadatak 3**: Prema gornjim uputama izračunajte i zapišite (na papir ili ovu radnu bilježnicu) rezultat za zadani skup mjerenja.\n",
        "</div>"
      ]
    },
    {
      "cell_type": "code",
      "execution_count": 15,
      "metadata": {
        "jupyter": {
          "outputs_hidden": true
        },
        "colab": {
          "base_uri": "https://localhost:8080/"
        },
        "id": "-F3RtBC9O8dv",
        "outputId": "68563338-c49c-4647-83ed-6b54e90859a7"
      },
      "outputs": [
        {
          "output_type": "execute_result",
          "data": {
            "text/plain": [
              "0.013655312308249993"
            ]
          },
          "metadata": {},
          "execution_count": 15
        }
      ],
      "source": [
        "# Izračunajte standardnu devijaciju srednje vrijednosti, korijen od x je np.sqrt(x):\n",
        "StdDevSrednje = np.sqrt( sum((mojiPodatci - srednjaVrijednost)*(mojiPodatci - srednjaVrijednost)) / (len(mojiPodatci) * (len(mojiPodatci) - 1) ) )\n",
        "StdDevSrednje # ispišite vrijednost"
      ]
    },
    {
      "cell_type": "markdown",
      "metadata": {
        "id": "LuZ2aIn1O8dv"
      },
      "source": [
        "---\n",
        "# 2. Normalna (Gaussova) raspodjela\n",
        "\n",
        "Da bi razumjeli izraze koje smo u prethodnom poglavlju koristili i brojeve koje smo dobili, kao polaznu točku koristimo model vjerojatnosti u klasičnoj interpretaciji ponavljanja mjerenja, gdje se smatra da je skup mjerenja uzorak uzet iz neke raspodjele. \n",
        "\n",
        "Ako varijabla $t$ ima normalnu raspodjelu s parametrima $\\mu$ i $\\sigma$, gustoća vjerojatnosti (vjerojatnost poprimanja određene vrijednosti $t$) je dana izrazom\n",
        "\n",
        "$$p(t) = \\frac{1}{\\sigma\\sqrt{2 \\pi}}\\exp\\left[-\\frac{1}{2}\\left(\\frac{t-\\mu}{\\sigma}\\right)^2\\right]$$\n",
        "\n",
        "gdje vrijedi $\\int p(t)dt = 1$.\n",
        "\n",
        "Mjerne nesigurnosti često slijede normalnu raspodjelu, jer nastaju kao rezultat male promjene većeg broja nasumičnih varijabli.\n",
        "\n",
        "\n",
        "### 2.1. Učitajte skup mjerenja\\*  \n",
        "\n",
        "Poveznicu na svoj skup mjerenja ćete pronaći u drugom zadatku na moodle testu. Poveznicu ili kopirajte ili samo očitajte i promijenite zadnji broj u imenu skupa podataka.\n",
        "\n",
        "\n",
        "\\* Podatci su prosječne jačine potresa na jednoj lokaciji u 50 dana. Izvor podataka: US Geological Survey"
      ]
    },
    {
      "cell_type": "code",
      "execution_count": 18,
      "metadata": {
        "scrolled": true,
        "colab": {
          "base_uri": "https://localhost:8080/",
          "height": 292
        },
        "id": "_UUjOpR9O8dv",
        "outputId": "0702ca58-5f2b-4453-fe04-3539c41ab6b0"
      },
      "outputs": [
        {
          "output_type": "stream",
          "name": "stderr",
          "text": [
            "/usr/local/lib/python3.7/dist-packages/IPython/core/interactiveshell.py:2882: FutureWarning: The error_bad_lines argument has been deprecated and will be removed in a future version.\n",
            "\n",
            "\n",
            "  exec(code_obj, self.user_global_ns, self.user_ns)\n"
          ]
        },
        {
          "output_type": "execute_result",
          "data": {
            "text/html": [
              "\n",
              "  <div id=\"df-97016567-9f52-4bb1-a599-bf989552f691\">\n",
              "    <div class=\"colab-df-container\">\n",
              "      <div>\n",
              "<style scoped>\n",
              "    .dataframe tbody tr th:only-of-type {\n",
              "        vertical-align: middle;\n",
              "    }\n",
              "\n",
              "    .dataframe tbody tr th {\n",
              "        vertical-align: top;\n",
              "    }\n",
              "\n",
              "    .dataframe thead th {\n",
              "        text-align: right;\n",
              "    }\n",
              "</style>\n",
              "<table border=\"1\" class=\"dataframe\">\n",
              "  <thead>\n",
              "    <tr style=\"text-align: right;\">\n",
              "      <th></th>\n",
              "      <th>magnituda</th>\n",
              "    </tr>\n",
              "  </thead>\n",
              "  <tbody>\n",
              "    <tr>\n",
              "      <th>0</th>\n",
              "      <td>1.708583</td>\n",
              "    </tr>\n",
              "    <tr>\n",
              "      <th>1</th>\n",
              "      <td>1.500098</td>\n",
              "    </tr>\n",
              "    <tr>\n",
              "      <th>2</th>\n",
              "      <td>1.795472</td>\n",
              "    </tr>\n",
              "    <tr>\n",
              "      <th>3</th>\n",
              "      <td>1.457249</td>\n",
              "    </tr>\n",
              "    <tr>\n",
              "      <th>4</th>\n",
              "      <td>1.550021</td>\n",
              "    </tr>\n",
              "  </tbody>\n",
              "</table>\n",
              "</div>\n",
              "      <button class=\"colab-df-convert\" onclick=\"convertToInteractive('df-97016567-9f52-4bb1-a599-bf989552f691')\"\n",
              "              title=\"Convert this dataframe to an interactive table.\"\n",
              "              style=\"display:none;\">\n",
              "        \n",
              "  <svg xmlns=\"http://www.w3.org/2000/svg\" height=\"24px\"viewBox=\"0 0 24 24\"\n",
              "       width=\"24px\">\n",
              "    <path d=\"M0 0h24v24H0V0z\" fill=\"none\"/>\n",
              "    <path d=\"M18.56 5.44l.94 2.06.94-2.06 2.06-.94-2.06-.94-.94-2.06-.94 2.06-2.06.94zm-11 1L8.5 8.5l.94-2.06 2.06-.94-2.06-.94L8.5 2.5l-.94 2.06-2.06.94zm10 10l.94 2.06.94-2.06 2.06-.94-2.06-.94-.94-2.06-.94 2.06-2.06.94z\"/><path d=\"M17.41 7.96l-1.37-1.37c-.4-.4-.92-.59-1.43-.59-.52 0-1.04.2-1.43.59L10.3 9.45l-7.72 7.72c-.78.78-.78 2.05 0 2.83L4 21.41c.39.39.9.59 1.41.59.51 0 1.02-.2 1.41-.59l7.78-7.78 2.81-2.81c.8-.78.8-2.07 0-2.86zM5.41 20L4 18.59l7.72-7.72 1.47 1.35L5.41 20z\"/>\n",
              "  </svg>\n",
              "      </button>\n",
              "      \n",
              "  <style>\n",
              "    .colab-df-container {\n",
              "      display:flex;\n",
              "      flex-wrap:wrap;\n",
              "      gap: 12px;\n",
              "    }\n",
              "\n",
              "    .colab-df-convert {\n",
              "      background-color: #E8F0FE;\n",
              "      border: none;\n",
              "      border-radius: 50%;\n",
              "      cursor: pointer;\n",
              "      display: none;\n",
              "      fill: #1967D2;\n",
              "      height: 32px;\n",
              "      padding: 0 0 0 0;\n",
              "      width: 32px;\n",
              "    }\n",
              "\n",
              "    .colab-df-convert:hover {\n",
              "      background-color: #E2EBFA;\n",
              "      box-shadow: 0px 1px 2px rgba(60, 64, 67, 0.3), 0px 1px 3px 1px rgba(60, 64, 67, 0.15);\n",
              "      fill: #174EA6;\n",
              "    }\n",
              "\n",
              "    [theme=dark] .colab-df-convert {\n",
              "      background-color: #3B4455;\n",
              "      fill: #D2E3FC;\n",
              "    }\n",
              "\n",
              "    [theme=dark] .colab-df-convert:hover {\n",
              "      background-color: #434B5C;\n",
              "      box-shadow: 0px 1px 3px 1px rgba(0, 0, 0, 0.15);\n",
              "      filter: drop-shadow(0px 1px 2px rgba(0, 0, 0, 0.3));\n",
              "      fill: #FFFFFF;\n",
              "    }\n",
              "  </style>\n",
              "\n",
              "      <script>\n",
              "        const buttonEl =\n",
              "          document.querySelector('#df-97016567-9f52-4bb1-a599-bf989552f691 button.colab-df-convert');\n",
              "        buttonEl.style.display =\n",
              "          google.colab.kernel.accessAllowed ? 'block' : 'none';\n",
              "\n",
              "        async function convertToInteractive(key) {\n",
              "          const element = document.querySelector('#df-97016567-9f52-4bb1-a599-bf989552f691');\n",
              "          const dataTable =\n",
              "            await google.colab.kernel.invokeFunction('convertToInteractive',\n",
              "                                                     [key], {});\n",
              "          if (!dataTable) return;\n",
              "\n",
              "          const docLinkHtml = 'Like what you see? Visit the ' +\n",
              "            '<a target=\"_blank\" href=https://colab.research.google.com/notebooks/data_table.ipynb>data table notebook</a>'\n",
              "            + ' to learn more about interactive tables.';\n",
              "          element.innerHTML = '';\n",
              "          dataTable['output_type'] = 'display_data';\n",
              "          await google.colab.output.renderOutput(dataTable, element);\n",
              "          const docLink = document.createElement('div');\n",
              "          docLink.innerHTML = docLinkHtml;\n",
              "          element.appendChild(docLink);\n",
              "        }\n",
              "      </script>\n",
              "    </div>\n",
              "  </div>\n",
              "  "
            ],
            "text/plain": [
              "   magnituda\n",
              "0   1.708583\n",
              "1   1.500098\n",
              "2   1.795472\n",
              "3   1.457249\n",
              "4   1.550021"
            ]
          },
          "metadata": {},
          "execution_count": 18
        }
      ],
      "source": [
        "# Ovdje kopirajte poveznicu s Vašim skupom podataka. \n",
        "# Poveznica je zadana u drugom zadatku na moodle dijelu kolegija.\n",
        "# Napomena: promjena je samo u zadnjem broju u imenu datoteke\n",
        "fname = \"http://galileo.zpf.fer.hr/Fizika-laboratorij/SkupoviPodataka/moodleHR/Zad4-skup21.txt\"\n",
        "\n",
        "# dalje IZVRŠITE BEZ IZMJENA -------------\n",
        "dataTablica = pd.read_csv(fname, delim_whitespace=True, header=None, names=['magnituda'],\n",
        "                         skipinitialspace=True, comment='#', error_bad_lines=False)\n",
        "dataTablica.head() # ispisujemo samo prvih 5 vrijednosti, da provjerimo je li učitavanje uspješno"
      ]
    },
    {
      "cell_type": "code",
      "execution_count": 19,
      "metadata": {
        "colab": {
          "base_uri": "https://localhost:8080/"
        },
        "id": "u2cTfzlyO8dw",
        "outputId": "b1c6f746-ba07-42a0-f7a5-7840c05b9520"
      },
      "outputs": [
        {
          "output_type": "execute_result",
          "data": {
            "text/plain": [
              "2000"
            ]
          },
          "metadata": {},
          "execution_count": 19
        }
      ],
      "source": [
        "# provjerimo koliko podataka ima u skupu\n",
        "len(dataTablica)"
      ]
    },
    {
      "cell_type": "markdown",
      "metadata": {
        "id": "7KV9C14rO8dw"
      },
      "source": [
        "<div style =  \"background-color:#cce698\">\n",
        "**Zadatak 4**: Izračunajte srednju vrijednost i varijancu ovog skupa podataka.\n",
        "<br><br>\n",
        "Srednja vrijednost: $\\overline{x} = \\frac{1}{N}\\sum_{i=1}^{N}x_i$,  varijanca:  $ s^2 = \\frac{1}{N-1}\\sum_{i=1}^{N}(x_i-\\overline{x} )^2 $.\n",
        "</div>"
      ]
    },
    {
      "cell_type": "markdown",
      "metadata": {
        "id": "VvyEyVUXO8dw"
      },
      "source": [
        "Koristite izraze analogne onima koje ste napisali za prethodni skup podataka.\n",
        "\n",
        "Kolona s mjerenjima `dataTablica.magnituda` je u sljedećoj ćeliji pridružena varijabli `x`, pa dalje možete računati s `x`."
      ]
    },
    {
      "cell_type": "code",
      "execution_count": 20,
      "metadata": {
        "colab": {
          "base_uri": "https://localhost:8080/"
        },
        "id": "a28FVNMiO8dx",
        "outputId": "fc92bd79-c8d7-4fe1-fea9-9ee572abdddb"
      },
      "outputs": [
        {
          "output_type": "execute_result",
          "data": {
            "text/plain": [
              "1.5599617335607985"
            ]
          },
          "metadata": {},
          "execution_count": 20
        }
      ],
      "source": [
        "x = dataTablica.magnituda # kolona s podatcima, racunajte dalje s x\n",
        "skupSrednja = sum(x) / len(x)\n",
        "skupSrednja"
      ]
    },
    {
      "cell_type": "code",
      "execution_count": 21,
      "metadata": {
        "jupyter": {
          "outputs_hidden": true
        },
        "colab": {
          "base_uri": "https://localhost:8080/"
        },
        "id": "VVEns95LO8dx",
        "outputId": "19768b22-419f-4885-b902-e95210669558"
      },
      "outputs": [
        {
          "output_type": "execute_result",
          "data": {
            "text/plain": [
              "0.018117966615140476"
            ]
          },
          "metadata": {},
          "execution_count": 21
        }
      ],
      "source": [
        "skupVarijanca = sum((x - skupSrednja)*(x - skupSrednja)) / (len(x) - 1)\n",
        "skupVarijanca"
      ]
    },
    {
      "cell_type": "code",
      "execution_count": 22,
      "metadata": {
        "colab": {
          "base_uri": "https://localhost:8080/"
        },
        "id": "MrNLQ3vhO8dx",
        "outputId": "d87eb387-5aa9-4112-e155-0a920bb53518"
      },
      "outputs": [
        {
          "output_type": "execute_result",
          "data": {
            "text/plain": [
              "0.13460299630818207"
            ]
          },
          "metadata": {},
          "execution_count": 22
        }
      ],
      "source": [
        "# izvršite bez izmjene\n",
        "np.sqrt(skupVarijanca) # standardna devijacija"
      ]
    },
    {
      "cell_type": "markdown",
      "metadata": {
        "id": "jlgRcCQKO8dx"
      },
      "source": [
        "### 2.2. Nacrtajte histogram učitanih podataka\n",
        "\n",
        "Na isti plot je dodana normalna raspodjela s lokacijom (srednja vrijednost $\\mu$) i širinom (standardna devijacija $\\sigma$) određenima iz skupa podataka tako da je\n",
        "* za očekivanu vrijednost normalne raspodjele $\\mu$ uzeta srednja vrijednost skupa podataka $\\overline{x}$\n",
        "* za standardnu devijaciju normalne raspodjele $\\sigma$ uzet je korijen varijance skupa podataka $s$ (standardna devijacija skupa).\n",
        "\n",
        "### Uočite: Podatci prilično dobro slijede pretpostavljenu normalnu raspodjelu!"
      ]
    },
    {
      "cell_type": "code",
      "execution_count": 23,
      "metadata": {
        "colab": {
          "base_uri": "https://localhost:8080/",
          "height": 406
        },
        "id": "f6ZNxUqEO8dy",
        "outputId": "80625607-836d-46f0-945f-356262fec98b"
      },
      "outputs": [
        {
          "output_type": "display_data",
          "data": {
            "image/png": "[encoded data removed]",
            "text/plain": [
              "<Figure size 648x432 with 1 Axes>"
            ]
          },
          "metadata": {
            "needs_background": "light"
          }
        },
        {
          "output_type": "stream",
          "name": "stdout",
          "text": [
            "srednja vrijednost =  1.5599617335607985   standardna devijacija =  0.13460299630818207\n"
          ]
        }
      ],
      "source": [
        "# IZVRŠITE BEZ IZMJENA -------------\n",
        "\n",
        "broj_binova = 70\n",
        "fig, ax = plt.subplots(figsize=(9,6))\n",
        "x = dataTablica.magnituda  # podatci\n",
        "histoALL, binsALL, patches = ax.hist(x, broj_binova, density=True, label='raspodjela\\n mjerenja\\n N = %d'%(len(x)), alpha=0.5, zorder=1)\n",
        "# pretpostavimo normalnu raspodjelu s parametrima: mu = srednji(x), sigma=s\n",
        "mu = skupSrednja; sigma = np.sqrt(skupVarijanca)\n",
        "y = scipy.stats.norm.pdf(binsALL, mu, sigma)\n",
        "ax.plot(binsALL, y, '--', label='normalna\\n raspodjela\\n $\\mu = \\overline{x}$ i $\\sigma=s$',color='black')\n",
        "ax.set_xlabel('Prosječna magnituda potresa')\n",
        "ax.set_ylabel('Normirani broj')\n",
        "ax.legend(loc='upper left', framealpha=0)\n",
        "plt.show()\n",
        "plt.close(fig)\n",
        "print(\"srednja vrijednost = \", mu,\"  standardna devijacija = \", sigma)"
      ]
    },
    {
      "cell_type": "markdown",
      "metadata": {
        "id": "AN59U9DPO8dy"
      },
      "source": [
        "### 2.3. Sada iz istog skupa podataka nasumično odaberite manje skupove podataka.\n",
        "\n",
        "<div style =  \"background-color:#cce698\">\n",
        "**Zadatak 5**: Provjerite kako izgledaju raspodjele manjih pod-skupova ovih podataka.\n",
        "</div>\n",
        "<br>\n",
        "* **PROMIJENITE** dolje broj za: **VelicinaNasumicnoOdabranogUzorka** \n",
        "\n",
        "* Probajte **sve** odabire od: **20, 50, 100, 300, 1000** podataka. Za svaki od tih odabira, ćeliju možete izvršiti nekoliko puta da vidite kako se rezultat mijenja s nasumičnim odabirom iz skupa.\n",
        "\n",
        "* Primjetite kada (za koje veličine odabranog podskupa) histogram počinje ličiti na Gaussovu raspodjelu."
      ]
    },
    {
      "cell_type": "code",
      "execution_count": 28,
      "metadata": {
        "colab": {
          "base_uri": "https://localhost:8080/",
          "height": 389
        },
        "id": "5ZurIUvoO8dy",
        "outputId": "db6a8660-add1-4522-a7f5-36b7aadbc484"
      },
      "outputs": [
        {
          "output_type": "display_data",
          "data": {
            "image/png": "[encoded data removed]",
            "text/plain": [
              "<Figure size 648x432 with 1 Axes>"
            ]
          },
          "metadata": {
            "needs_background": "light"
          }
        }
      ],
      "source": [
        "VelicinaNasumicnoOdabranogUzorka = 1000\n",
        "\n",
        "# DALJE IZVRŠITE BEZ IZMJENA -------------\n",
        "\n",
        "fig, ax = plt.subplots(figsize=(9,6))\n",
        "x = dataTablica.magnituda\n",
        "x = np.random.choice(x,VelicinaNasumicnoOdabranogUzorka)\n",
        "histo, bins, patches = ax.hist(x, broj_binova, density=True, label='raspodjela\\n mjerenja\\n N = %d'%(len(x)), alpha=0.5, zorder=1)\n",
        "y = scipy.stats.norm.pdf(bins, mu, sigma)\n",
        "ax.plot(bins, y, '--', label='normalna\\n raspodjela\\n $\\mu = \\overline{x}$ i $\\sigma=s$',color='black')\n",
        "ax.set_xlabel('Prosječna magnituda potresa')\n",
        "ax.set_ylabel('Normirani broj')\n",
        "ax.legend(loc='upper left', framealpha=0)\n",
        "plt.show()\n",
        "plt.close(fig)"
      ]
    },
    {
      "cell_type": "markdown",
      "metadata": {
        "id": "pb8LxB_tO8dz"
      },
      "source": [
        "#### Upravo ste vidjeli ilustraciju **Centralnog graničnog teorema** \n",
        "\n",
        "Centralni granični teorem kaže da će niz slučajnih varijabli $x_i, i=1,...,N$ konvergirati normalnoj razdiobi kada $N$ teži u beskonačno. (https://en.wikipedia.org/wiki/Central_limit_theorem)"
      ]
    },
    {
      "cell_type": "markdown",
      "metadata": {
        "id": "_OnqEPqOO8dz"
      },
      "source": [
        "### 2.4. Provjerite koliki udio skupa podataka ima vrijednost u intervalu $\\mu - \\sigma$  do  $\\mu + \\sigma$"
      ]
    },
    {
      "cell_type": "code",
      "execution_count": 30,
      "metadata": {
        "colab": {
          "base_uri": "https://localhost:8080/"
        },
        "id": "7i7n1wAMO8dz",
        "outputId": "6854c1f3-4640-448f-e512-fd4ebcbe44bb"
      },
      "outputs": [
        {
          "output_type": "stream",
          "name": "stdout",
          "text": [
            "binovi unutar kojih ćemo pobrojiti podatke:  24  -  46\n",
            "postotak podataka u zadanom intervalu =  65.8\n"
          ]
        }
      ],
      "source": [
        "# IZVRŠITE BEZ IZMJENA -------------\n",
        "\n",
        "# S normiranim histogramom (površina je 1) je lako izračunati udio skupa u zadanom intervalu\n",
        "bindolje = np.digitize(skupSrednja - np.sqrt(skupVarijanca),binsALL)\n",
        "bingore  = np.digitize(skupSrednja + np.sqrt(skupVarijanca),binsALL)\n",
        "print(\"binovi unutar kojih ćemo pobrojiti podatke: \",bindolje, \" - \",bingore)\n",
        "postotak = 100*np.sum(histoALL[bindolje:bingore] * np.diff(binsALL)[bindolje:bingore])\n",
        "print(\"postotak podataka u zadanom intervalu = \",postotak)"
      ]
    },
    {
      "cell_type": "markdown",
      "metadata": {
        "id": "TZnYbirpO8dz"
      },
      "source": [
        "#### Pogledajmo kako izgleda taj interval na grafu (osjenčano zeleno)."
      ]
    },
    {
      "cell_type": "code",
      "execution_count": 31,
      "metadata": {
        "colab": {
          "base_uri": "https://localhost:8080/",
          "height": 389
        },
        "id": "8eD3B9dSO8dz",
        "outputId": "ef2f1ca4-7c5c-4bfb-d48e-9836cb6ef502"
      },
      "outputs": [
        {
          "output_type": "display_data",
          "data": {
            "image/png": "[encoded data removed]",
            "text/plain": [
              "<Figure size 864x432 with 1 Axes>"
            ]
          },
          "metadata": {
            "needs_background": "light"
          }
        }
      ],
      "source": [
        "# IZVRŠITE BEZ IZMJENA -------------\n",
        "\n",
        "fig, ax = plt.subplots(figsize=(12,6))\n",
        "x = dataTablica.magnituda  # podatci \n",
        "histoALL, binsALL, patches = ax.hist(x, broj_binova, density=False,label='svi podatci',alpha=0.5)\n",
        "# pretpostavimo normalnu raspodjelu s parametrima: mu = srednji(x), sigma=s\n",
        "mu = skupSrednja ; sigma = np.sqrt(skupVarijanca)\n",
        "normiranje = np.sum(histoALL * np.diff(binsALL))\n",
        "y = normiranje*scipy.stats.norm.pdf(binsALL, mu, sigma)\n",
        "ax.plot(binsALL, y, '--',color='black',lw=2)\n",
        "ax.set_xlabel('Prosječna magnituda potresa')\n",
        "ax.set_ylabel('Normirani broj')\n",
        "ymin, ymax = ax.get_ylim()  # Granice y-osi:\n",
        "# lokacija srednje vrijednosti\n",
        "ax.axvline(mu, linestyle='dashed',color='red')\n",
        "ax.text(mu, ymax*0.98, r'$\\mu$',ha='right', va='top',rotation=90, size=10)\n",
        "# mjera širine: korijen iz varijance\n",
        "desno = mu+sigma\n",
        "ax.axvline(desno, linestyle='dotted',color='green')\n",
        "ax.text(desno, ymax*0.98, r'$\\mu+\\sigma$',ha='right', va='top',rotation=90, size=10)\n",
        "lijevo = mu-sigma\n",
        "ax.axvline(lijevo, linestyle='dotted',color='green')\n",
        "ax.text(lijevo, ymax*0.98, r'$\\mu-\\sigma$',ha='right', va='top',rotation=90, size=10)\n",
        "# Dodajmo i oznacene binove:\n",
        "ax.hist(x, bins=binsALL[bindolje:bingore], density=False, label='unutar jedne standardne devijacije',color='green')\n",
        "ax.legend(loc='upper right')\n",
        "plt.show()\n",
        "plt.close(fig)"
      ]
    },
    {
      "cell_type": "markdown",
      "metadata": {
        "id": "LuUTIcrUO8d0"
      },
      "source": [
        "#### Pronašli ste da se u intervalu vrijednosti   $\\mu\\pm\\sigma$ nalazi $\\sim 65-70\\%$ skupa\n",
        "\n",
        "Kada bi podatci točno slijedili normalnu raspodjelu s parametrima $\\mu$ i $\\sigma$, u intervalu \n",
        "* $(\\mu-\\sigma ,\\mu+\\sigma)$ nalazilo bi se **68.3%** podataka,\n",
        "* $(\\mu-2\\sigma ,\\mu+2\\sigma)$ nalazilo bi se **95.4%** podataka,\n",
        "* $(\\mu-3\\sigma ,\\mu+3\\sigma)$ nalazilo bi se **99.7%** podataka."
      ]
    },
    {
      "cell_type": "markdown",
      "metadata": {
        "id": "oNHbUwvgO8d0"
      },
      "source": [
        "---\n",
        "# 3. Mjerna nesigurnost posredno mjerene veličine\n",
        "\n",
        "Često traženu veličinu $Y$ ne mjerimo direktno, već računamo iz poznate funkcijske ovisnosti $Y = f(X_1,...,X_n)$ o drugim veličinama $X_1,...,X_n$. Na primjer, volumen tijela (valjka) iz prve laboratorijske vježbe računa se iz izmjerene visine $h$ i promjera $d$:\n",
        "\n",
        "$$V = h\\pi \\left(\\frac{d}{2}\\right)^2$$\n",
        "\n",
        "#### Očekivana vrijednost\n",
        "Očekivanu vrijednost tražene veličine $y$ izračunamo iz očekivanih vrijednosti ulaznih veličina $x_1,...,x_n$: $y = f(x_1,...,x_n)$.\n",
        "\n",
        "U slučaju valjka, iz nekoliko mjerenja visine i promjera bi pronašli srednje vrijednosti $\\overline{d}$ i $\\overline{h}$ i njih smatrali očekivanim vrijednostima $d$ i $h$. Očekivani volumen bi izračunali pomoću tih vrijednosti.\n",
        "\n",
        "\n",
        "#### Mjerna nesigurnost\n",
        "Općenito jedna ili više tih drugih veličina $x_1,...,x_n$ imaju mjernu nesigurnost ($u (x_1),..., u(x_n)$), pa očekujemo da o preciznosti mjerenja ulaznih veličina ovisi preciznost konačnog rezultata. \n",
        "\n",
        "U slučaju valjka, nesigurnost mjerenja visine $u_h$ i promjera $u_d$ pronašli bi iz standardne devijacije srednje vrijednosti skupa mjerenja svake od tih veličina $u(d) = s(\\overline{d})$ i $u(h) = s(\\overline{h})$.\n",
        "\n",
        "Kombinirana nesigurnost posredno mjerenje veličine $u (y)$ nalazi se pomoću izraza\n",
        "\n",
        "$$u^2 (y) = \\sum_{i=1}^n \\left( \\frac{\\partial f}{\\partial x_i} \\right)^2 u^2 (x_i) \n",
        "\\ \\ \\ ,\\mathrm{gdje \\ je} \\ \\ \\ \\  \\ \\ \\ \\ \\ \n",
        "y = f(x_1,...,x_n) $$\n",
        "\n",
        "<br>\n",
        "<div style =  \"background-color:#cce698\">\n",
        "**Zadatak 6**: Primjenite račun nesigurnosti na zadanu funkcijsku ovisnost volumena o promjeru i visini valjka, za mjerenja promjera i visine koja su Vam zadana u moodle*testu.\n",
        "    \n",
        "Za pomoć pogledajte Primjer 5 u skripti iz laboratorijskih vježbi.\n",
        "</div>\n",
        "\n",
        "Pri računu se koristite kalkulatorom ili ovom radnom bilježnicom (novu ćeliju za račun dodajete pomoću '+').\n",
        "\n",
        "Zapišite (na papir ili u ovu radnu bilježnicu) konačni rezultat takvog posrednog mjerenja tražene veličine u standardnom obliku:\n",
        "<br>\n",
        "$y_\\mathrm{mjer.} = (\\overline{y} \\pm u_y)$  [mjerna jedinica].\n"
      ]
    },
    {
      "cell_type": "code",
      "execution_count": 32,
      "metadata": {
        "colab": {
          "base_uri": "https://localhost:8080/",
          "height": 130
        },
        "id": "Xl-iqLRaO8d1",
        "outputId": "0e455f4f-17f8-4c59-d83b-b4b7c81bb163"
      },
      "outputs": [
        {
          "output_type": "error",
          "ename": "SyntaxError",
          "evalue": "ignored",
          "traceback": [
            "\u001b[0;36m  File \u001b[0;32m\"<ipython-input-32-208a47908734>\"\u001b[0;36m, line \u001b[0;32m6\u001b[0m\n\u001b[0;31m    var_V =\u001b[0m\n\u001b[0m            ^\u001b[0m\n\u001b[0;31mSyntaxError\u001b[0m\u001b[0;31m:\u001b[0m invalid syntax\n"
          ]
        }
      ],
      "source": [
        "d = 6.308\n",
        "ud = 0.030\n",
        "h = 8.770\n",
        "uh = 0.031\n",
        "V = h * np.pi * d**2 /4\n",
        "var_V = \n",
        "std_V = np.sqrt( sum((mojiPodatci - srednjaVrijednost)*(mojiPodatci - srednjaVrijednost)) / (len(mojiPodatci) * (len(mojiPodatci) - 1) ) )"
      ]
    },
    {
      "cell_type": "markdown",
      "metadata": {
        "id": "oT3x9GYiO8d1"
      },
      "source": [
        "---\n",
        "# 4. Linearni model i metoda najmanjih kvadrata\n",
        "\n",
        "\n",
        "Uzmite da imate skup mjerenja dvije varijable (npr. vrijeme i položaj) $x_i$ i $y_i$, s $i=1,...,N$, gdje je $N$ broj mjerenja. \n",
        "\n",
        "Ako **pretpostavite** da je model za mjerenja linearna ovisnost $y$ o $x$: \n",
        "$$y(x_i) = a + b x_i ,$$ \n",
        "koeficijente pravca $a$ i $b$ možete pronaći zahtjevanjem da suma kvadrata odstupanja predviđenih vrijednosti $y(x_i)$ od mjerenih vrijednosti $y_i$ (vertikalnih udaljenosti točaka od pravca) bude najmanja moguća:\n",
        "\n",
        "$$S^2 =\\sum_{i=1}^N [y_i -y(x_i)]^2 = \\sum_{i=1}^N [y_i - (a + b x_i)]^2 = \\mathrm{minimum}$$\n",
        "\n",
        "Koeficijenti pravca za koje je to zadovoljeno (minimiziraju S^2): \n",
        "$$\\frac{\\partial S^2}{\\partial a} = 0\\ \\ \\ \\mathrm{i} \\ \\ \\ \\frac{\\partial S^2}{\\partial b} = 0$$\n",
        "\n",
        "\n",
        "### 4.1. Koeficijenti pravca\n",
        "Kada riješimo ovaj sustav od dvije jednadžbe s dvije nepoznanice, dobijemo izraze za koeficijente (dalje podrazumijevamo da su sve sume za $i=1,...,N$):\n",
        "\n",
        "$$a = \\frac{\\sum x_i^2 \\sum y_i - \\sum x_i\\sum x_i y_i}{N \\sum x_i^2 - (\\sum x_i)^2}\n",
        "\\ \\ \\ , \\ \\ \\ \\ \\ \\ \n",
        "b = \\frac{N\\sum x_i y_i - \\sum x_i \\sum y_i }{N \\sum x_i^2 - (\\sum x_i)^2}$$\n",
        "\n",
        "\n",
        "<br>\n",
        "<div style =  \"background-color:#cce698\">\n",
        "**Zadatak 7**: Za zadane podatke ($x$ je vrijeme u sekundama, $y$ položaj u cm) izračunajte brzinu prilagodbom podataka na pravac metodom najmanjih kvadrata.\n",
        "</div>\n",
        "\n",
        "Svoj skup mjerenja pronaći ćete u svom moodle testu. \n",
        "\n",
        "U sljedeće dvije ćelije kopirajte zadane skupove $x$ i $y$ vrijednosti. "
      ]
    },
    {
      "cell_type": "code",
      "execution_count": 33,
      "metadata": {
        "jupyter": {
          "outputs_hidden": true
        },
        "id": "zMJcvuESO8d1"
      },
      "outputs": [],
      "source": [
        "# Ovdje kopirajte svoje podatke za x varijablu (vrijeme u s)\n",
        "# x_mjerenja = np.array([ ])\n",
        "x_mjerenja = np.array([2.0, 5.052631578947368, 8.105263157894736, 11.157894736842106,  \n",
        "14.210526315789474, 17.263157894736842, 20.315789473684212, 23.36842105263158,  \n",
        "26.42105263157895, 29.47368421052632, 32.526315789473685, 35.578947368421055,  \n",
        "38.631578947368425, 41.684210526315795, 44.73684210526316, 47.78947368421053,  \n",
        "50.8421052631579, 53.89473684210527, 56.94736842105264, 60.0])"
      ]
    },
    {
      "cell_type": "code",
      "execution_count": 34,
      "metadata": {
        "jupyter": {
          "outputs_hidden": true
        },
        "id": "QtsahMZOO8d1"
      },
      "outputs": [],
      "source": [
        "# Ovdje kopirajte svoje podatke za y varijablu (položaj u cm)\n",
        "# y_mjerenja = np.array([ ])\n",
        "y_mjerenja = np.array([ 10.005079236207054, 9.736553686279835, 26.26317542654806, 40.51579411875735,  \n",
        "40.55628714680455, 54.47188171414987, 71.61537939250407, 84.02065256376336,  \n",
        "85.4259267349657, 104.3823333274559, 110.22328128615904, 122.80345438170916,  \n",
        "141.90225857589732, 150.7920155063524, 158.6875069071349, 165.89476249403984,  \n",
        "161.31386822861322, 181.32970487302083, 187.86536237599648, 198.82412898469397 ])"
      ]
    },
    {
      "cell_type": "markdown",
      "metadata": {
        "id": "oiX2fVbbO8d2"
      },
      "source": [
        "Pomoću prethodno izvedenih izraza\n",
        "$$a = \\frac{\\sum x_i^2 \\sum y_i - \\sum x_i\\sum x_i y_i}{N \\sum x_i^2 - (\\sum x_i)^2} \\ ,\n",
        "\\ \\ \\ \\ \\ \n",
        "b = \\frac{N\\sum x_i y_i - \\sum x_i \\sum y_i }{N \\sum x_i^2 - (\\sum x_i)^2}$$\n",
        "\n",
        "iz skupova podataka $x_i$ i $y_i$ izračunajte koeficijente pravca $a$ i $b$.\n",
        "\n",
        "Kada se piše program za računanje koeficijenata, uobičajeno je uvesti pokrate:\n",
        "\n",
        "$ \\mathrm{Sx} \\equiv \\sum x_i$, $ \\mathrm{Sy} \\equiv \\sum y_i$, $ \\mathrm{Sxy} \\equiv \\sum x_i y_i$, $ \\mathrm{Sx2} \\equiv \\sum x_i^2$, pa imamo:\n",
        "\n",
        "$$a = \\frac{\\mathrm{Sx2}\\cdot  \\mathrm{Sy} - \\mathrm{Sx} \\cdot \\mathrm{Sxy} }{N\\cdot \\mathrm{Sx2} - (\\mathrm{Sx})^2}\\ ,\n",
        "\\ \\ \\ \\ \\ \\ \\ \\\n",
        "b = \\frac{N \\cdot \\mathrm{Sxy} - \\mathrm{Sx} \\cdot \\mathrm{Sy} }{N\\cdot \\mathrm{Sx2} - (\\mathrm{Sx})^2}$$"
      ]
    },
    {
      "cell_type": "markdown",
      "metadata": {
        "id": "9tO1A8cjO8d2"
      },
      "source": [
        "<div style =  \"background-color:#cce698\">\n",
        "**Zadatak 7a**: Izračunajte koeficijente $a$ i $b$.\n",
        "</div>"
      ]
    },
    {
      "cell_type": "code",
      "execution_count": 54,
      "metadata": {
        "jupyter": {
          "outputs_hidden": true
        },
        "colab": {
          "base_uri": "https://localhost:8080/"
        },
        "id": "LKDv2v2PO8d2",
        "outputId": "47456582-cf0f-4bec-9b29-d27b93460183"
      },
      "outputs": [
        {
          "output_type": "execute_result",
          "data": {
            "text/plain": [
              "20"
            ]
          },
          "metadata": {},
          "execution_count": 54
        }
      ],
      "source": [
        "# Ovdje napišite izraze za računanje a i b\n",
        "# Pri tome kao i prije možete koristiti funkcije \n",
        "# len(podatci), sum(podatci) i raditi računske operacije s\n",
        "# arrays, npr.  (podatci1-podatci2), (podatci - 5.0), (podatci*50) itd.\n",
        "# Dolje je već napisana pomoć za dvije pokrate (Sx2 i N).\n",
        "Sx = sum(x_mjerenja)\n",
        "Sy = sum(y_mjerenja)\n",
        "Sxy = sum(x_mjerenja*y_mjerenja)\n",
        "Sx2 = sum(x_mjerenja*x_mjerenja)\n",
        "N = len(x_mjerenja)\n",
        "N"
      ]
    },
    {
      "cell_type": "code",
      "execution_count": 45,
      "metadata": {
        "jupyter": {
          "outputs_hidden": true
        },
        "colab": {
          "base_uri": "https://localhost:8080/"
        },
        "id": "nNgfgvvhO8d2",
        "outputId": "505afcc3-2283-4926-d445-e6d0ef3cb319"
      },
      "outputs": [
        {
          "output_type": "stream",
          "name": "stdout",
          "text": [
            "a = 0.035263, b = 3.396652\n"
          ]
        }
      ],
      "source": [
        "# Ovdje izračunajte i ispišite koeficijente a i b\n",
        "a = ((Sx2 * Sy) - (Sx * Sxy)) / ((N * Sx2) - (Sx * Sx))\n",
        "b = ((N * Sxy) - (Sx * Sy)) / ((N * Sx2) - (Sx * Sx))\n",
        "print(\"a = %f, b = %f\"%(a, b))"
      ]
    },
    {
      "cell_type": "code",
      "execution_count": 46,
      "metadata": {
        "colab": {
          "base_uri": "https://localhost:8080/",
          "height": 354
        },
        "id": "cqIox5pgO8d2",
        "outputId": "7703ced4-8a61-45bc-e755-7baaa9dc25d1"
      },
      "outputs": [
        {
          "output_type": "display_data",
          "data": {
            "image/png": "[encoded data removed]",
            "text/plain": [
              "<Figure size 720x360 with 1 Axes>"
            ]
          },
          "metadata": {
            "needs_background": "light"
          }
        }
      ],
      "source": [
        "#  NISU POTREBNE IZMJENE ! -----------------------------\n",
        "\n",
        "fig, ax = plt.subplots(figsize=(10,5))\n",
        "ax.plot(x_mjerenja,y_mjerenja,\"o\",label='podatci')  \n",
        "ax.plot(x_mjerenja, a + b*x_mjerenja,\n",
        "        \"--\",linewidth=3, label='najbolji pravac', zorder=10)  #pravac s dobivenim koeficijentima\n",
        "ax.set(xlabel='$t$ [s]', ylabel='$y(t)$ [cm]',\n",
        "       title='položaj u ovisnosti o vremenu')\n",
        "ax.legend(loc='lower right')\n",
        "plt.show()\n",
        "plt.close(fig)"
      ]
    },
    {
      "cell_type": "markdown",
      "metadata": {
        "id": "t4ibhxyeO8d3"
      },
      "source": [
        "### 4.2. Nesigurnosti koeficijenata pravca\n",
        "\n",
        "Čak i veličine koje teorijski imaju savršenu međusobnu linearnu ovisnost, će zbog nesigurnosti u mjerenju imati odstupanja od pravca. Nesigurnost u određivanju parametara $a$ i $b$ pomoću pravila za nesigurnost posredno mjerenih veličina:\n",
        "\n",
        "$$ u_{a} = \\sum_i u_i^2\\left( \\frac{\\partial a}{\\partial y_i} \\right)^2, \\ \\ \\ \\\n",
        "u_{b} = \\sum_i u_i^2\\left( \\frac{\\partial b}{\\partial y_i} \\right)^2 \\ ,$$ \n",
        "\n",
        "gdje je $u_i$ mjerna nesigurnost $i-$tog mjerenja.  \n",
        "Deriviranjem gornjih izraza za $a$ i $b$ po $y_i$ i sumiranjem po svim $i$ dobivamo izraze:\n",
        "\n",
        "$$u_a^2 = s^2 \\frac{\\sum x_i^2}{N\\sum x_i^2 -(\\sum x_i)^2}\\ ,\n",
        "\\ \\ \\ \\ \\ \\ \n",
        "u_b^2 = s^2 \\frac{N}{N\\sum x_i^2 -(\\sum x_i)^2} \\ \\ \\ \\ ,\\mathrm{gdje\\ je} \n",
        "\\ \\ \\ \\ \\ \\ \n",
        "s^2 = \\frac{\\sum_i (y_i - a - b x_i)^2}{N-2}.\n",
        "$$\n",
        "\n",
        "Ovi izrazi su napisani uz pretpostavke koje su detaljnije objašnjene u uvodnom poglavlju u skripti.\n",
        "\n",
        "<br>\n",
        "<div style =  \"background-color:#cce698\">\n",
        "**Zadatak 7b**: Izračunajte nesigurnosti koeficijenata $u_a$ i $u_b$.\n",
        "<br>Pomoć:\n",
        "<br> --- Izraz za $s^2$ je već dolje napisan: $s^2 =$ `var2` .\n",
        "<br> --- Nazivnici u izrazima za $u_a$ i $u_b$ jednaki su nazivnicima u izrazima za a i b koje ste već napisali.\n",
        "<br>\n",
        "</div>"
      ]
    },
    {
      "cell_type": "code",
      "execution_count": 60,
      "metadata": {
        "jupyter": {
          "outputs_hidden": true
        },
        "colab": {
          "base_uri": "https://localhost:8080/"
        },
        "id": "Y7Sdl9PFO8d3",
        "outputId": "5a626e63-b1d4-40ae-fcbb-1dc71e8a86f9"
      },
      "outputs": [
        {
          "output_type": "stream",
          "name": "stdout",
          "text": [
            "u_a = 2.752594, u_b = 0.077214\n",
            "a = 0.035263, b = 3.396652\n"
          ]
        }
      ],
      "source": [
        "# ---- !! POTREBNE SU IZMJENE !! -------------\n",
        "\n",
        "# Ovdje je izračunata varijance mjerenja s^2 = var2:\n",
        "zagrada = y_mjerenja - a - b*x_mjerenja\n",
        "var2 = sum(zagrada*zagrada)/(N-2)\n",
        "\n",
        "# Pomoću var2 i prethodno definiranih Sx, Sx2, N izračunajte kvadrate\n",
        "# nesigurnosti koeficijenata pravca (var_a = u_a^2  i  var_b = u_b^2)\n",
        "# HINT: Nazivnik je jednak nazivniku u izrazima za a i b koje ste već napisali\n",
        "var_a = var2* (sum(x_mjerenja * x_mjerenja) / (N * sum(x_mjerenja * x_mjerenja) - (sum(x_mjerenja) * sum(x_mjerenja) ) ) )\n",
        "var_b = var2* (N / ((N * sum(x_mjerenja * x_mjerenja)) - (sum(x_mjerenja) * sum(x_mjerenja))))\n",
        "\n",
        "# DALJE NISU POTREBNE IZMJENE -------------\n",
        "\n",
        "u_a = np.sqrt(var_a)\n",
        "u_b = np.sqrt(var_b)\n",
        "\n",
        "# Ispišite vrijednosti za nesigurnost parametara a i b:\n",
        "print(\"u_a = %f, u_b = %f\"%(u_a, u_b))\n",
        "# i ponovo parametre a i b:\n",
        "print(\"a = %f, b = %f\"%(a, b))\n",
        "\n"
      ]
    },
    {
      "cell_type": "markdown",
      "metadata": {
        "id": "03R4Av6HO8d3"
      },
      "source": [
        "Ovo je vrijednost koju ste dobili za mjeru rasipanja $y_i$ vrijednosti oko pravca:"
      ]
    },
    {
      "cell_type": "code",
      "execution_count": 52,
      "metadata": {
        "colab": {
          "base_uri": "https://localhost:8080/"
        },
        "id": "WZ3HOO-LO8d3",
        "outputId": "b6dd7420-f31b-4f61-b65e-4e51bdbd91d2"
      },
      "outputs": [
        {
          "output_type": "execute_result",
          "data": {
            "text/plain": [
              "6.078293111346036"
            ]
          },
          "metadata": {},
          "execution_count": 52
        }
      ],
      "source": [
        "#  NISU POTREBNE IZMJENE ! -----------------------------\n",
        "np.sqrt(var2)"
      ]
    },
    {
      "cell_type": "markdown",
      "metadata": {
        "id": "nXh4gWChO8d4"
      },
      "source": [
        "### 4.2. Možemo još provjeriti je li naša pretpostavka da odstupanja od pravca slijede normalnu raspodjelu dovoljno dobra\n",
        "Nacrtati ćemo \n",
        "* raspodjelu odstupanja mjerenih $y_i$ vrijednosti od pravca:    $\\,\\,\\, y_i - (a+b\\cdot x_i)$\n",
        "* normalnu raspodjelu s lokacijom $\\mu=0$ i širinom $\\sigma=s$\n",
        "\n",
        "($\\mu=0$ označava da očekujemo sličnu količinu ukupnog odstupanja ispod i iznad pravca. $\\sigma=s$ označava da vrijednost $s$ mjeri širinu rasipanja oko pravca.)"
      ]
    },
    {
      "cell_type": "code",
      "execution_count": 53,
      "metadata": {
        "colab": {
          "base_uri": "https://localhost:8080/",
          "height": 350
        },
        "id": "RI9nX9gVO8d4",
        "outputId": "ffa8adc2-e1bb-4e71-cac5-0b8025f5152e"
      },
      "outputs": [
        {
          "output_type": "display_data",
          "data": {
            "image/png": "[encoded data removed]",
            "text/plain": [
              "<Figure size 576x360 with 1 Axes>"
            ]
          },
          "metadata": {
            "needs_background": "light"
          }
        }
      ],
      "source": [
        "#  NISU POTREBNE IZMJENE ! -----------------------------\n",
        "broj_binova = 30\n",
        "fig, ax = plt.subplots(figsize=(8,5))\n",
        "odstupanja = y_mjerenja - a - b*x_mjerenja\n",
        "n, bins, patches = ax.hist(odstupanja, broj_binova, density=True, alpha=0.5, zorder=1)\n",
        "y = scipy.stats.norm.pdf(bins, 0, np.sqrt(var2))\n",
        "ax.plot(bins, y, '--',color='black')\n",
        "ax.set_xlabel('Odstupanje od pravca')\n",
        "ax.set_ylabel('Normirani broj')\n",
        "ax.set_title(r'Histogram odstupanja od pravca u y-smjeru')\n",
        "plt.show()\n",
        "plt.close(fig)"
      ]
    },
    {
      "cell_type": "markdown",
      "metadata": {
        "id": "dHvK9vj8O8d4"
      },
      "source": [
        "---\n",
        "# 5. Provjera valjanosti modela, drugi modeli (osim linearnog)\n",
        "\n",
        "**AKO** model dobro opisuje točke, moralo bi vrijediti:\n",
        "\n",
        "* **U prosjeku** svaka točka $y_i$ od krivulje $y = f(x_i)$ odstupa (vertikalna udaljenost!) u iznosu svoje mjerne nesigurnosti $u_i$, koju je potrebno procjeniti za sve točke (npr. iz rezolucije instrumenta ili kao standardnu devijaciju ponovljenih mjerenja). \n",
        "*     Dakle, omjer odstupanja i nesigurnosti $[y(x_i) - y_i]/u_i$ ne bi smio biti (puno) veći od 1 za svaku točku.\n",
        "*     Kada se zbroje kvadrati (da svaka bude pozitivna veličina) ovih omjera odstupanja, rezultat ne bi smio biti puno veći od broja točaka $N$.\n",
        "*     Uvodi se suma (čita se hi-kvadrat): $$\\chi^2 = \\sum_{i=1}^N\\left( \\frac{ a + b x_i + c x_i^2 - y_i}{u_i}\\right)^2$$ \n",
        "*     Dodavanjem slobodnih parametara (npr. povećanjem stupnja polinoma) u principu bi mogli provući krivulju kroz svaku točku, zato uspoređujemo $\\chi^2$ s **brojem stupnjeva slobode** (eng. degrees of freedom), **d.o.f.**: $$d.o.f. = N -k,$$ gdje je $k$ broj parametara krivulje. Za linearnu funkcijsku ovisnost  $k = 2$ (parametri su odsječak i nagib pravca), za polinom drugog stupnja $k = 3$, itd. \n",
        "*     Uobičajeno je **REDUCIRANI hi-kvadrat**: $$\\chi_{red}^2 = \\chi^2 /d.o.f.$$ **uspoređivati s 1** i grubo pravilo je:\n",
        "        * $\\chi_{red}^2 \\gg 1$ -- model nije prihvatljiv opis točaka ili su nesigurnosti podcijenjene\n",
        "        * $\\chi_{red}^2 \\lesssim 1$ -- model je prihvatljiv opis točaka\n",
        "        * $\\chi_{red}^2 \\ll 1$ -- model previše dobro opisuje točke, moguće je da treba smanjiti broj slobodnih parametara ili su mjerne nesigurnosti precijenjene.\n",
        "        \n",
        "            \n",
        "Do sada smo koristili izraze iz uvodnog poglavlja skripte pomoću kojih se 'ručno' mogu izračunati parametri $a$ i $b$ i njihove nesiguronosti $u_a$ i $u_b$ za linearni model i prilagodbu metodom najmanjih kvadrata. Dalje ćemo koristiti `polyfit`, jednu od mnogih metoda koje postoje na raspolaganju u `numpy` i usporediti linerani i kvadratični model za skup mjerenja gibanja kolica na vježbi 2.2.\n",
        "\n",
        "Učitajte skup mjerenja vremena i položaja kolica u laboratoriju. Nesigurnost mjerenja položaja procijenjena je na 200 jedinica koje mjeri arduino, što preračunavamo u (200*0.034/2) cm."
      ]
    },
    {
      "cell_type": "code",
      "execution_count": 58,
      "metadata": {
        "colab": {
          "base_uri": "https://localhost:8080/",
          "height": 463
        },
        "id": "4dXpWf9NO8d4",
        "outputId": "1175e9ae-4eb4-4afb-c8a0-449782236de8"
      },
      "outputs": [
        {
          "output_type": "stream",
          "name": "stderr",
          "text": [
            "/usr/local/lib/python3.7/dist-packages/IPython/core/interactiveshell.py:2882: FutureWarning: The error_bad_lines argument has been deprecated and will be removed in a future version.\n",
            "\n",
            "\n",
            "  exec(code_obj, self.user_global_ns, self.user_ns)\n"
          ]
        },
        {
          "output_type": "error",
          "ename": "HTTPError",
          "evalue": "ignored",
          "traceback": [
            "\u001b[0;31m---------------------------------------------------------------------------\u001b[0m",
            "\u001b[0;31mHTTPError\u001b[0m                                 Traceback (most recent call last)",
            "\u001b[0;32m<ipython-input-58-ccaae9fef1bc>\u001b[0m in \u001b[0;36m<module>\u001b[0;34m()\u001b[0m\n\u001b[1;32m      3\u001b[0m \u001b[0;31m#prefix = \"\"\u001b[0m\u001b[0;34m\u001b[0m\u001b[0;34m\u001b[0m\u001b[0;34m\u001b[0m\u001b[0m\n\u001b[1;32m      4\u001b[0m \u001b[0mfname\u001b[0m \u001b[0;34m=\u001b[0m \u001b[0mprefix\u001b[0m\u001b[0;34m+\u001b[0m\u001b[0;34m\"Fizika-laboratorij/mozda_kvadratno1.txt\"\u001b[0m\u001b[0;34m\u001b[0m\u001b[0;34m\u001b[0m\u001b[0m\n\u001b[0;32m----> 5\u001b[0;31m \u001b[0mtabl5_1\u001b[0m \u001b[0;34m=\u001b[0m \u001b[0mpd\u001b[0m\u001b[0;34m.\u001b[0m\u001b[0mread_csv\u001b[0m\u001b[0;34m(\u001b[0m\u001b[0mfname\u001b[0m\u001b[0;34m,\u001b[0m \u001b[0mdelim_whitespace\u001b[0m\u001b[0;34m=\u001b[0m\u001b[0;32mTrue\u001b[0m\u001b[0;34m,\u001b[0m \u001b[0mheader\u001b[0m\u001b[0;34m=\u001b[0m\u001b[0;32mNone\u001b[0m\u001b[0;34m,\u001b[0m \u001b[0mnames\u001b[0m\u001b[0;34m=\u001b[0m\u001b[0;34m[\u001b[0m\u001b[0;34m't'\u001b[0m\u001b[0;34m,\u001b[0m\u001b[0;34m'x'\u001b[0m\u001b[0;34m]\u001b[0m\u001b[0;34m,\u001b[0m\u001b[0mskipinitialspace\u001b[0m\u001b[0;34m=\u001b[0m\u001b[0;32mTrue\u001b[0m\u001b[0;34m,\u001b[0m \u001b[0mcomment\u001b[0m\u001b[0;34m=\u001b[0m\u001b[0;34m'#'\u001b[0m\u001b[0;34m,\u001b[0m \u001b[0merror_bad_lines\u001b[0m\u001b[0;34m=\u001b[0m\u001b[0;32mFalse\u001b[0m\u001b[0;34m,\u001b[0m\u001b[0mskiprows\u001b[0m\u001b[0;34m=\u001b[0m\u001b[0;36m1\u001b[0m\u001b[0;34m)\u001b[0m\u001b[0;34m\u001b[0m\u001b[0;34m\u001b[0m\u001b[0m\n\u001b[0m\u001b[1;32m      6\u001b[0m \u001b[0mtabl5_1\u001b[0m\u001b[0;34m.\u001b[0m\u001b[0mhead\u001b[0m\u001b[0;34m(\u001b[0m\u001b[0;34m)\u001b[0m \u001b[0;31m# ispisujemo samo prvih 5 vrijednosti, da provjerimo da li je učitavanje uspješno\u001b[0m\u001b[0;34m\u001b[0m\u001b[0;34m\u001b[0m\u001b[0m\n",
            "\u001b[0;32m/usr/local/lib/python3.7/dist-packages/pandas/util/_decorators.py\u001b[0m in \u001b[0;36mwrapper\u001b[0;34m(*args, **kwargs)\u001b[0m\n\u001b[1;32m    309\u001b[0m                     \u001b[0mstacklevel\u001b[0m\u001b[0;34m=\u001b[0m\u001b[0mstacklevel\u001b[0m\u001b[0;34m,\u001b[0m\u001b[0;34m\u001b[0m\u001b[0;34m\u001b[0m\u001b[0m\n\u001b[1;32m    310\u001b[0m                 )\n\u001b[0;32m--> 311\u001b[0;31m             \u001b[0;32mreturn\u001b[0m \u001b[0mfunc\u001b[0m\u001b[0;34m(\u001b[0m\u001b[0;34m*\u001b[0m\u001b[0margs\u001b[0m\u001b[0;34m,\u001b[0m \u001b[0;34m**\u001b[0m\u001b[0mkwargs\u001b[0m\u001b[0;34m)\u001b[0m\u001b[0;34m\u001b[0m\u001b[0;34m\u001b[0m\u001b[0m\n\u001b[0m\u001b[1;32m    312\u001b[0m \u001b[0;34m\u001b[0m\u001b[0m\n\u001b[1;32m    313\u001b[0m         \u001b[0;32mreturn\u001b[0m \u001b[0mwrapper\u001b[0m\u001b[0;34m\u001b[0m\u001b[0;34m\u001b[0m\u001b[0m\n",
            "\u001b[0;32m/usr/local/lib/python3.7/dist-packages/pandas/io/parsers/readers.py\u001b[0m in \u001b[0;36mread_csv\u001b[0;34m(filepath_or_buffer, sep, delimiter, header, names, index_col, usecols, squeeze, prefix, mangle_dupe_cols, dtype, engine, converters, true_values, false_values, skipinitialspace, skiprows, skipfooter, nrows, na_values, keep_default_na, na_filter, verbose, skip_blank_lines, parse_dates, infer_datetime_format, keep_date_col, date_parser, dayfirst, cache_dates, iterator, chunksize, compression, thousands, decimal, lineterminator, quotechar, quoting, doublequote, escapechar, comment, encoding, encoding_errors, dialect, error_bad_lines, warn_bad_lines, on_bad_lines, delim_whitespace, low_memory, memory_map, float_precision, storage_options)\u001b[0m\n\u001b[1;32m    584\u001b[0m     \u001b[0mkwds\u001b[0m\u001b[0;34m.\u001b[0m\u001b[0mupdate\u001b[0m\u001b[0;34m(\u001b[0m\u001b[0mkwds_defaults\u001b[0m\u001b[0;34m)\u001b[0m\u001b[0;34m\u001b[0m\u001b[0;34m\u001b[0m\u001b[0m\n\u001b[1;32m    585\u001b[0m \u001b[0;34m\u001b[0m\u001b[0m\n\u001b[0;32m--> 586\u001b[0;31m     \u001b[0;32mreturn\u001b[0m \u001b[0m_read\u001b[0m\u001b[0;34m(\u001b[0m\u001b[0mfilepath_or_buffer\u001b[0m\u001b[0;34m,\u001b[0m \u001b[0mkwds\u001b[0m\u001b[0;34m)\u001b[0m\u001b[0;34m\u001b[0m\u001b[0;34m\u001b[0m\u001b[0m\n\u001b[0m\u001b[1;32m    587\u001b[0m \u001b[0;34m\u001b[0m\u001b[0m\n\u001b[1;32m    588\u001b[0m \u001b[0;34m\u001b[0m\u001b[0m\n",
            "\u001b[0;32m/usr/local/lib/python3.7/dist-packages/pandas/io/parsers/readers.py\u001b[0m in \u001b[0;36m_read\u001b[0;34m(filepath_or_buffer, kwds)\u001b[0m\n\u001b[1;32m    480\u001b[0m \u001b[0;34m\u001b[0m\u001b[0m\n\u001b[1;32m    481\u001b[0m     \u001b[0;31m# Create the parser.\u001b[0m\u001b[0;34m\u001b[0m\u001b[0;34m\u001b[0m\u001b[0;34m\u001b[0m\u001b[0m\n\u001b[0;32m--> 482\u001b[0;31m     \u001b[0mparser\u001b[0m \u001b[0;34m=\u001b[0m \u001b[0mTextFileReader\u001b[0m\u001b[0;34m(\u001b[0m\u001b[0mfilepath_or_buffer\u001b[0m\u001b[0;34m,\u001b[0m \u001b[0;34m**\u001b[0m\u001b[0mkwds\u001b[0m\u001b[0;34m)\u001b[0m\u001b[0;34m\u001b[0m\u001b[0;34m\u001b[0m\u001b[0m\n\u001b[0m\u001b[1;32m    483\u001b[0m \u001b[0;34m\u001b[0m\u001b[0m\n\u001b[1;32m    484\u001b[0m     \u001b[0;32mif\u001b[0m \u001b[0mchunksize\u001b[0m \u001b[0;32mor\u001b[0m \u001b[0miterator\u001b[0m\u001b[0;34m:\u001b[0m\u001b[0;34m\u001b[0m\u001b[0;34m\u001b[0m\u001b[0m\n",
            "\u001b[0;32m/usr/local/lib/python3.7/dist-packages/pandas/io/parsers/readers.py\u001b[0m in \u001b[0;36m__init__\u001b[0;34m(self, f, engine, **kwds)\u001b[0m\n\u001b[1;32m    809\u001b[0m             \u001b[0mself\u001b[0m\u001b[0;34m.\u001b[0m\u001b[0moptions\u001b[0m\u001b[0;34m[\u001b[0m\u001b[0;34m\"has_index_names\"\u001b[0m\u001b[0;34m]\u001b[0m \u001b[0;34m=\u001b[0m \u001b[0mkwds\u001b[0m\u001b[0;34m[\u001b[0m\u001b[0;34m\"has_index_names\"\u001b[0m\u001b[0;34m]\u001b[0m\u001b[0;34m\u001b[0m\u001b[0;34m\u001b[0m\u001b[0m\n\u001b[1;32m    810\u001b[0m \u001b[0;34m\u001b[0m\u001b[0m\n\u001b[0;32m--> 811\u001b[0;31m         \u001b[0mself\u001b[0m\u001b[0;34m.\u001b[0m\u001b[0m_engine\u001b[0m \u001b[0;34m=\u001b[0m \u001b[0mself\u001b[0m\u001b[0;34m.\u001b[0m\u001b[0m_make_engine\u001b[0m\u001b[0;34m(\u001b[0m\u001b[0mself\u001b[0m\u001b[0;34m.\u001b[0m\u001b[0mengine\u001b[0m\u001b[0;34m)\u001b[0m\u001b[0;34m\u001b[0m\u001b[0;34m\u001b[0m\u001b[0m\n\u001b[0m\u001b[1;32m    812\u001b[0m \u001b[0;34m\u001b[0m\u001b[0m\n\u001b[1;32m    813\u001b[0m     \u001b[0;32mdef\u001b[0m \u001b[0mclose\u001b[0m\u001b[0;34m(\u001b[0m\u001b[0mself\u001b[0m\u001b[0;34m)\u001b[0m\u001b[0;34m:\u001b[0m\u001b[0;34m\u001b[0m\u001b[0;34m\u001b[0m\u001b[0m\n",
            "\u001b[0;32m/usr/local/lib/python3.7/dist-packages/pandas/io/parsers/readers.py\u001b[0m in \u001b[0;36m_make_engine\u001b[0;34m(self, engine)\u001b[0m\n\u001b[1;32m   1038\u001b[0m             )\n\u001b[1;32m   1039\u001b[0m         \u001b[0;31m# error: Too many arguments for \"ParserBase\"\u001b[0m\u001b[0;34m\u001b[0m\u001b[0;34m\u001b[0m\u001b[0;34m\u001b[0m\u001b[0m\n\u001b[0;32m-> 1040\u001b[0;31m         \u001b[0;32mreturn\u001b[0m \u001b[0mmapping\u001b[0m\u001b[0;34m[\u001b[0m\u001b[0mengine\u001b[0m\u001b[0;34m]\u001b[0m\u001b[0;34m(\u001b[0m\u001b[0mself\u001b[0m\u001b[0;34m.\u001b[0m\u001b[0mf\u001b[0m\u001b[0;34m,\u001b[0m \u001b[0;34m**\u001b[0m\u001b[0mself\u001b[0m\u001b[0;34m.\u001b[0m\u001b[0moptions\u001b[0m\u001b[0;34m)\u001b[0m  \u001b[0;31m# type: ignore[call-arg]\u001b[0m\u001b[0;34m\u001b[0m\u001b[0;34m\u001b[0m\u001b[0m\n\u001b[0m\u001b[1;32m   1041\u001b[0m \u001b[0;34m\u001b[0m\u001b[0m\n\u001b[1;32m   1042\u001b[0m     \u001b[0;32mdef\u001b[0m \u001b[0m_failover_to_python\u001b[0m\u001b[0;34m(\u001b[0m\u001b[0mself\u001b[0m\u001b[0;34m)\u001b[0m\u001b[0;34m:\u001b[0m\u001b[0;34m\u001b[0m\u001b[0;34m\u001b[0m\u001b[0m\n",
            "\u001b[0;32m/usr/local/lib/python3.7/dist-packages/pandas/io/parsers/c_parser_wrapper.py\u001b[0m in \u001b[0;36m__init__\u001b[0;34m(self, src, **kwds)\u001b[0m\n\u001b[1;32m     49\u001b[0m \u001b[0;34m\u001b[0m\u001b[0m\n\u001b[1;32m     50\u001b[0m         \u001b[0;31m# open handles\u001b[0m\u001b[0;34m\u001b[0m\u001b[0;34m\u001b[0m\u001b[0;34m\u001b[0m\u001b[0m\n\u001b[0;32m---> 51\u001b[0;31m         \u001b[0mself\u001b[0m\u001b[0;34m.\u001b[0m\u001b[0m_open_handles\u001b[0m\u001b[0;34m(\u001b[0m\u001b[0msrc\u001b[0m\u001b[0;34m,\u001b[0m \u001b[0mkwds\u001b[0m\u001b[0;34m)\u001b[0m\u001b[0;34m\u001b[0m\u001b[0;34m\u001b[0m\u001b[0m\n\u001b[0m\u001b[1;32m     52\u001b[0m         \u001b[0;32massert\u001b[0m \u001b[0mself\u001b[0m\u001b[0;34m.\u001b[0m\u001b[0mhandles\u001b[0m \u001b[0;32mis\u001b[0m \u001b[0;32mnot\u001b[0m \u001b[0;32mNone\u001b[0m\u001b[0;34m\u001b[0m\u001b[0;34m\u001b[0m\u001b[0m\n\u001b[1;32m     53\u001b[0m \u001b[0;34m\u001b[0m\u001b[0m\n",
            "\u001b[0;32m/usr/local/lib/python3.7/dist-packages/pandas/io/parsers/base_parser.py\u001b[0m in \u001b[0;36m_open_handles\u001b[0;34m(self, src, kwds)\u001b[0m\n\u001b[1;32m    227\u001b[0m             \u001b[0mmemory_map\u001b[0m\u001b[0;34m=\u001b[0m\u001b[0mkwds\u001b[0m\u001b[0;34m.\u001b[0m\u001b[0mget\u001b[0m\u001b[0;34m(\u001b[0m\u001b[0;34m\"memory_map\"\u001b[0m\u001b[0;34m,\u001b[0m \u001b[0;32mFalse\u001b[0m\u001b[0;34m)\u001b[0m\u001b[0;34m,\u001b[0m\u001b[0;34m\u001b[0m\u001b[0;34m\u001b[0m\u001b[0m\n\u001b[1;32m    228\u001b[0m             \u001b[0mstorage_options\u001b[0m\u001b[0;34m=\u001b[0m\u001b[0mkwds\u001b[0m\u001b[0;34m.\u001b[0m\u001b[0mget\u001b[0m\u001b[0;34m(\u001b[0m\u001b[0;34m\"storage_options\"\u001b[0m\u001b[0;34m,\u001b[0m \u001b[0;32mNone\u001b[0m\u001b[0;34m)\u001b[0m\u001b[0;34m,\u001b[0m\u001b[0;34m\u001b[0m\u001b[0;34m\u001b[0m\u001b[0m\n\u001b[0;32m--> 229\u001b[0;31m             \u001b[0merrors\u001b[0m\u001b[0;34m=\u001b[0m\u001b[0mkwds\u001b[0m\u001b[0;34m.\u001b[0m\u001b[0mget\u001b[0m\u001b[0;34m(\u001b[0m\u001b[0;34m\"encoding_errors\"\u001b[0m\u001b[0;34m,\u001b[0m \u001b[0;34m\"strict\"\u001b[0m\u001b[0;34m)\u001b[0m\u001b[0;34m,\u001b[0m\u001b[0;34m\u001b[0m\u001b[0;34m\u001b[0m\u001b[0m\n\u001b[0m\u001b[1;32m    230\u001b[0m         )\n\u001b[1;32m    231\u001b[0m \u001b[0;34m\u001b[0m\u001b[0m\n",
            "\u001b[0;32m/usr/local/lib/python3.7/dist-packages/pandas/io/common.py\u001b[0m in \u001b[0;36mget_handle\u001b[0;34m(path_or_buf, mode, encoding, compression, memory_map, is_text, errors, storage_options)\u001b[0m\n\u001b[1;32m    612\u001b[0m         \u001b[0mcompression\u001b[0m\u001b[0;34m=\u001b[0m\u001b[0mcompression\u001b[0m\u001b[0;34m,\u001b[0m\u001b[0;34m\u001b[0m\u001b[0;34m\u001b[0m\u001b[0m\n\u001b[1;32m    613\u001b[0m         \u001b[0mmode\u001b[0m\u001b[0;34m=\u001b[0m\u001b[0mmode\u001b[0m\u001b[0;34m,\u001b[0m\u001b[0;34m\u001b[0m\u001b[0;34m\u001b[0m\u001b[0m\n\u001b[0;32m--> 614\u001b[0;31m         \u001b[0mstorage_options\u001b[0m\u001b[0;34m=\u001b[0m\u001b[0mstorage_options\u001b[0m\u001b[0;34m,\u001b[0m\u001b[0;34m\u001b[0m\u001b[0;34m\u001b[0m\u001b[0m\n\u001b[0m\u001b[1;32m    615\u001b[0m     )\n\u001b[1;32m    616\u001b[0m \u001b[0;34m\u001b[0m\u001b[0m\n",
            "\u001b[0;32m/usr/local/lib/python3.7/dist-packages/pandas/io/common.py\u001b[0m in \u001b[0;36m_get_filepath_or_buffer\u001b[0;34m(filepath_or_buffer, encoding, compression, mode, storage_options)\u001b[0m\n\u001b[1;32m    310\u001b[0m         \u001b[0;31m# assuming storage_options is to be interpreted as headers\u001b[0m\u001b[0;34m\u001b[0m\u001b[0;34m\u001b[0m\u001b[0;34m\u001b[0m\u001b[0m\n\u001b[1;32m    311\u001b[0m         \u001b[0mreq_info\u001b[0m \u001b[0;34m=\u001b[0m \u001b[0murllib\u001b[0m\u001b[0;34m.\u001b[0m\u001b[0mrequest\u001b[0m\u001b[0;34m.\u001b[0m\u001b[0mRequest\u001b[0m\u001b[0;34m(\u001b[0m\u001b[0mfilepath_or_buffer\u001b[0m\u001b[0;34m,\u001b[0m \u001b[0mheaders\u001b[0m\u001b[0;34m=\u001b[0m\u001b[0mstorage_options\u001b[0m\u001b[0;34m)\u001b[0m\u001b[0;34m\u001b[0m\u001b[0;34m\u001b[0m\u001b[0m\n\u001b[0;32m--> 312\u001b[0;31m         \u001b[0;32mwith\u001b[0m \u001b[0murlopen\u001b[0m\u001b[0;34m(\u001b[0m\u001b[0mreq_info\u001b[0m\u001b[0;34m)\u001b[0m \u001b[0;32mas\u001b[0m \u001b[0mreq\u001b[0m\u001b[0;34m:\u001b[0m\u001b[0;34m\u001b[0m\u001b[0;34m\u001b[0m\u001b[0m\n\u001b[0m\u001b[1;32m    313\u001b[0m             \u001b[0mcontent_encoding\u001b[0m \u001b[0;34m=\u001b[0m \u001b[0mreq\u001b[0m\u001b[0;34m.\u001b[0m\u001b[0mheaders\u001b[0m\u001b[0;34m.\u001b[0m\u001b[0mget\u001b[0m\u001b[0;34m(\u001b[0m\u001b[0;34m\"Content-Encoding\"\u001b[0m\u001b[0;34m,\u001b[0m \u001b[0;32mNone\u001b[0m\u001b[0;34m)\u001b[0m\u001b[0;34m\u001b[0m\u001b[0;34m\u001b[0m\u001b[0m\n\u001b[1;32m    314\u001b[0m             \u001b[0;32mif\u001b[0m \u001b[0mcontent_encoding\u001b[0m \u001b[0;34m==\u001b[0m \u001b[0;34m\"gzip\"\u001b[0m\u001b[0;34m:\u001b[0m\u001b[0;34m\u001b[0m\u001b[0;34m\u001b[0m\u001b[0m\n",
            "\u001b[0;32m/usr/local/lib/python3.7/dist-packages/pandas/io/common.py\u001b[0m in \u001b[0;36murlopen\u001b[0;34m(*args, **kwargs)\u001b[0m\n\u001b[1;32m    210\u001b[0m     \u001b[0;32mimport\u001b[0m \u001b[0murllib\u001b[0m\u001b[0;34m.\u001b[0m\u001b[0mrequest\u001b[0m\u001b[0;34m\u001b[0m\u001b[0;34m\u001b[0m\u001b[0m\n\u001b[1;32m    211\u001b[0m \u001b[0;34m\u001b[0m\u001b[0m\n\u001b[0;32m--> 212\u001b[0;31m     \u001b[0;32mreturn\u001b[0m \u001b[0murllib\u001b[0m\u001b[0;34m.\u001b[0m\u001b[0mrequest\u001b[0m\u001b[0;34m.\u001b[0m\u001b[0murlopen\u001b[0m\u001b[0;34m(\u001b[0m\u001b[0;34m*\u001b[0m\u001b[0margs\u001b[0m\u001b[0;34m,\u001b[0m \u001b[0;34m**\u001b[0m\u001b[0mkwargs\u001b[0m\u001b[0;34m)\u001b[0m\u001b[0;34m\u001b[0m\u001b[0;34m\u001b[0m\u001b[0m\n\u001b[0m\u001b[1;32m    213\u001b[0m \u001b[0;34m\u001b[0m\u001b[0m\n\u001b[1;32m    214\u001b[0m \u001b[0;34m\u001b[0m\u001b[0m\n",
            "\u001b[0;32m/usr/lib/python3.7/urllib/request.py\u001b[0m in \u001b[0;36murlopen\u001b[0;34m(url, data, timeout, cafile, capath, cadefault, context)\u001b[0m\n\u001b[1;32m    220\u001b[0m     \u001b[0;32melse\u001b[0m\u001b[0;34m:\u001b[0m\u001b[0;34m\u001b[0m\u001b[0;34m\u001b[0m\u001b[0m\n\u001b[1;32m    221\u001b[0m         \u001b[0mopener\u001b[0m \u001b[0;34m=\u001b[0m \u001b[0m_opener\u001b[0m\u001b[0;34m\u001b[0m\u001b[0;34m\u001b[0m\u001b[0m\n\u001b[0;32m--> 222\u001b[0;31m     \u001b[0;32mreturn\u001b[0m \u001b[0mopener\u001b[0m\u001b[0;34m.\u001b[0m\u001b[0mopen\u001b[0m\u001b[0;34m(\u001b[0m\u001b[0murl\u001b[0m\u001b[0;34m,\u001b[0m \u001b[0mdata\u001b[0m\u001b[0;34m,\u001b[0m \u001b[0mtimeout\u001b[0m\u001b[0;34m)\u001b[0m\u001b[0;34m\u001b[0m\u001b[0;34m\u001b[0m\u001b[0m\n\u001b[0m\u001b[1;32m    223\u001b[0m \u001b[0;34m\u001b[0m\u001b[0m\n\u001b[1;32m    224\u001b[0m \u001b[0;32mdef\u001b[0m \u001b[0minstall_opener\u001b[0m\u001b[0;34m(\u001b[0m\u001b[0mopener\u001b[0m\u001b[0;34m)\u001b[0m\u001b[0;34m:\u001b[0m\u001b[0;34m\u001b[0m\u001b[0;34m\u001b[0m\u001b[0m\n",
            "\u001b[0;32m/usr/lib/python3.7/urllib/request.py\u001b[0m in \u001b[0;36mopen\u001b[0;34m(self, fullurl, data, timeout)\u001b[0m\n\u001b[1;32m    529\u001b[0m         \u001b[0;32mfor\u001b[0m \u001b[0mprocessor\u001b[0m \u001b[0;32min\u001b[0m \u001b[0mself\u001b[0m\u001b[0;34m.\u001b[0m\u001b[0mprocess_response\u001b[0m\u001b[0;34m.\u001b[0m\u001b[0mget\u001b[0m\u001b[0;34m(\u001b[0m\u001b[0mprotocol\u001b[0m\u001b[0;34m,\u001b[0m \u001b[0;34m[\u001b[0m\u001b[0;34m]\u001b[0m\u001b[0;34m)\u001b[0m\u001b[0;34m:\u001b[0m\u001b[0;34m\u001b[0m\u001b[0;34m\u001b[0m\u001b[0m\n\u001b[1;32m    530\u001b[0m             \u001b[0mmeth\u001b[0m \u001b[0;34m=\u001b[0m \u001b[0mgetattr\u001b[0m\u001b[0;34m(\u001b[0m\u001b[0mprocessor\u001b[0m\u001b[0;34m,\u001b[0m \u001b[0mmeth_name\u001b[0m\u001b[0;34m)\u001b[0m\u001b[0;34m\u001b[0m\u001b[0;34m\u001b[0m\u001b[0m\n\u001b[0;32m--> 531\u001b[0;31m             \u001b[0mresponse\u001b[0m \u001b[0;34m=\u001b[0m \u001b[0mmeth\u001b[0m\u001b[0;34m(\u001b[0m\u001b[0mreq\u001b[0m\u001b[0;34m,\u001b[0m \u001b[0mresponse\u001b[0m\u001b[0;34m)\u001b[0m\u001b[0;34m\u001b[0m\u001b[0;34m\u001b[0m\u001b[0m\n\u001b[0m\u001b[1;32m    532\u001b[0m \u001b[0;34m\u001b[0m\u001b[0m\n\u001b[1;32m    533\u001b[0m         \u001b[0;32mreturn\u001b[0m \u001b[0mresponse\u001b[0m\u001b[0;34m\u001b[0m\u001b[0;34m\u001b[0m\u001b[0m\n",
            "\u001b[0;32m/usr/lib/python3.7/urllib/request.py\u001b[0m in \u001b[0;36mhttp_response\u001b[0;34m(self, request, response)\u001b[0m\n\u001b[1;32m    639\u001b[0m         \u001b[0;32mif\u001b[0m \u001b[0;32mnot\u001b[0m \u001b[0;34m(\u001b[0m\u001b[0;36m200\u001b[0m \u001b[0;34m<=\u001b[0m \u001b[0mcode\u001b[0m \u001b[0;34m<\u001b[0m \u001b[0;36m300\u001b[0m\u001b[0;34m)\u001b[0m\u001b[0;34m:\u001b[0m\u001b[0;34m\u001b[0m\u001b[0;34m\u001b[0m\u001b[0m\n\u001b[1;32m    640\u001b[0m             response = self.parent.error(\n\u001b[0;32m--> 641\u001b[0;31m                 'http', request, response, code, msg, hdrs)\n\u001b[0m\u001b[1;32m    642\u001b[0m \u001b[0;34m\u001b[0m\u001b[0m\n\u001b[1;32m    643\u001b[0m         \u001b[0;32mreturn\u001b[0m \u001b[0mresponse\u001b[0m\u001b[0;34m\u001b[0m\u001b[0;34m\u001b[0m\u001b[0m\n",
            "\u001b[0;32m/usr/lib/python3.7/urllib/request.py\u001b[0m in \u001b[0;36merror\u001b[0;34m(self, proto, *args)\u001b[0m\n\u001b[1;32m    567\u001b[0m         \u001b[0;32mif\u001b[0m \u001b[0mhttp_err\u001b[0m\u001b[0;34m:\u001b[0m\u001b[0;34m\u001b[0m\u001b[0;34m\u001b[0m\u001b[0m\n\u001b[1;32m    568\u001b[0m             \u001b[0margs\u001b[0m \u001b[0;34m=\u001b[0m \u001b[0;34m(\u001b[0m\u001b[0mdict\u001b[0m\u001b[0;34m,\u001b[0m \u001b[0;34m'default'\u001b[0m\u001b[0;34m,\u001b[0m \u001b[0;34m'http_error_default'\u001b[0m\u001b[0;34m)\u001b[0m \u001b[0;34m+\u001b[0m \u001b[0morig_args\u001b[0m\u001b[0;34m\u001b[0m\u001b[0;34m\u001b[0m\u001b[0m\n\u001b[0;32m--> 569\u001b[0;31m             \u001b[0;32mreturn\u001b[0m \u001b[0mself\u001b[0m\u001b[0;34m.\u001b[0m\u001b[0m_call_chain\u001b[0m\u001b[0;34m(\u001b[0m\u001b[0;34m*\u001b[0m\u001b[0margs\u001b[0m\u001b[0;34m)\u001b[0m\u001b[0;34m\u001b[0m\u001b[0;34m\u001b[0m\u001b[0m\n\u001b[0m\u001b[1;32m    570\u001b[0m \u001b[0;34m\u001b[0m\u001b[0m\n\u001b[1;32m    571\u001b[0m \u001b[0;31m# XXX probably also want an abstract factory that knows when it makes\u001b[0m\u001b[0;34m\u001b[0m\u001b[0;34m\u001b[0m\u001b[0;34m\u001b[0m\u001b[0m\n",
            "\u001b[0;32m/usr/lib/python3.7/urllib/request.py\u001b[0m in \u001b[0;36m_call_chain\u001b[0;34m(self, chain, kind, meth_name, *args)\u001b[0m\n\u001b[1;32m    501\u001b[0m         \u001b[0;32mfor\u001b[0m \u001b[0mhandler\u001b[0m \u001b[0;32min\u001b[0m \u001b[0mhandlers\u001b[0m\u001b[0;34m:\u001b[0m\u001b[0;34m\u001b[0m\u001b[0;34m\u001b[0m\u001b[0m\n\u001b[1;32m    502\u001b[0m             \u001b[0mfunc\u001b[0m \u001b[0;34m=\u001b[0m \u001b[0mgetattr\u001b[0m\u001b[0;34m(\u001b[0m\u001b[0mhandler\u001b[0m\u001b[0;34m,\u001b[0m \u001b[0mmeth_name\u001b[0m\u001b[0;34m)\u001b[0m\u001b[0;34m\u001b[0m\u001b[0;34m\u001b[0m\u001b[0m\n\u001b[0;32m--> 503\u001b[0;31m             \u001b[0mresult\u001b[0m \u001b[0;34m=\u001b[0m \u001b[0mfunc\u001b[0m\u001b[0;34m(\u001b[0m\u001b[0;34m*\u001b[0m\u001b[0margs\u001b[0m\u001b[0;34m)\u001b[0m\u001b[0;34m\u001b[0m\u001b[0;34m\u001b[0m\u001b[0m\n\u001b[0m\u001b[1;32m    504\u001b[0m             \u001b[0;32mif\u001b[0m \u001b[0mresult\u001b[0m \u001b[0;32mis\u001b[0m \u001b[0;32mnot\u001b[0m \u001b[0;32mNone\u001b[0m\u001b[0;34m:\u001b[0m\u001b[0;34m\u001b[0m\u001b[0;34m\u001b[0m\u001b[0m\n\u001b[1;32m    505\u001b[0m                 \u001b[0;32mreturn\u001b[0m \u001b[0mresult\u001b[0m\u001b[0;34m\u001b[0m\u001b[0;34m\u001b[0m\u001b[0m\n",
            "\u001b[0;32m/usr/lib/python3.7/urllib/request.py\u001b[0m in \u001b[0;36mhttp_error_default\u001b[0;34m(self, req, fp, code, msg, hdrs)\u001b[0m\n\u001b[1;32m    647\u001b[0m \u001b[0;32mclass\u001b[0m \u001b[0mHTTPDefaultErrorHandler\u001b[0m\u001b[0;34m(\u001b[0m\u001b[0mBaseHandler\u001b[0m\u001b[0;34m)\u001b[0m\u001b[0;34m:\u001b[0m\u001b[0;34m\u001b[0m\u001b[0;34m\u001b[0m\u001b[0m\n\u001b[1;32m    648\u001b[0m     \u001b[0;32mdef\u001b[0m \u001b[0mhttp_error_default\u001b[0m\u001b[0;34m(\u001b[0m\u001b[0mself\u001b[0m\u001b[0;34m,\u001b[0m \u001b[0mreq\u001b[0m\u001b[0;34m,\u001b[0m \u001b[0mfp\u001b[0m\u001b[0;34m,\u001b[0m \u001b[0mcode\u001b[0m\u001b[0;34m,\u001b[0m \u001b[0mmsg\u001b[0m\u001b[0;34m,\u001b[0m \u001b[0mhdrs\u001b[0m\u001b[0;34m)\u001b[0m\u001b[0;34m:\u001b[0m\u001b[0;34m\u001b[0m\u001b[0;34m\u001b[0m\u001b[0m\n\u001b[0;32m--> 649\u001b[0;31m         \u001b[0;32mraise\u001b[0m \u001b[0mHTTPError\u001b[0m\u001b[0;34m(\u001b[0m\u001b[0mreq\u001b[0m\u001b[0;34m.\u001b[0m\u001b[0mfull_url\u001b[0m\u001b[0;34m,\u001b[0m \u001b[0mcode\u001b[0m\u001b[0;34m,\u001b[0m \u001b[0mmsg\u001b[0m\u001b[0;34m,\u001b[0m \u001b[0mhdrs\u001b[0m\u001b[0;34m,\u001b[0m \u001b[0mfp\u001b[0m\u001b[0;34m)\u001b[0m\u001b[0;34m\u001b[0m\u001b[0;34m\u001b[0m\u001b[0m\n\u001b[0m\u001b[1;32m    650\u001b[0m \u001b[0;34m\u001b[0m\u001b[0m\n\u001b[1;32m    651\u001b[0m \u001b[0;32mclass\u001b[0m \u001b[0mHTTPRedirectHandler\u001b[0m\u001b[0;34m(\u001b[0m\u001b[0mBaseHandler\u001b[0m\u001b[0;34m)\u001b[0m\u001b[0;34m:\u001b[0m\u001b[0;34m\u001b[0m\u001b[0;34m\u001b[0m\u001b[0m\n",
            "\u001b[0;31mHTTPError\u001b[0m: HTTP Error 404: Not Found"
          ]
        }
      ],
      "source": [
        "#  NISU POTREBNE IZMJENE ! -----------------------------\n",
        "prefix = \"http://sail.zpf.fer.hr/\"\n",
        "#prefix = \"\"\n",
        "fname = prefix+\"Fizika-laboratorij/mozda_kvadratno1.txt\"\n",
        "tabl5_1 = pd.read_csv(fname, delim_whitespace=True, header=None, names=['t','x'],skipinitialspace=True, comment='#', error_bad_lines=False,skiprows=1)\n",
        "tabl5_1.head() # ispisujemo samo prvih 5 vrijednosti, da provjerimo da li je učitavanje uspješno"
      ]
    },
    {
      "cell_type": "markdown",
      "metadata": {
        "id": "n9_2S1foO8d5"
      },
      "source": [
        "### 5.1. Možemo li mjerenja opisati linearnom ovisnošću prijeđenog puta o vremenu (pravcem)?\n",
        "\n",
        "Provjerimo kako mjerenja opisuje model $y(x_i) = a + b x_i$."
      ]
    },
    {
      "cell_type": "code",
      "execution_count": 56,
      "metadata": {
        "colab": {
          "base_uri": "https://localhost:8080/",
          "height": 232
        },
        "id": "KAsdL_loO8d5",
        "outputId": "126d750b-be7a-4686-e292-2f481f52c059"
      },
      "outputs": [
        {
          "output_type": "error",
          "ename": "NameError",
          "evalue": "ignored",
          "traceback": [
            "\u001b[0;31m---------------------------------------------------------------------------\u001b[0m",
            "\u001b[0;31mNameError\u001b[0m                                 Traceback (most recent call last)",
            "\u001b[0;32m<ipython-input-56-1b511e725a83>\u001b[0m in \u001b[0;36m<module>\u001b[0;34m()\u001b[0m\n\u001b[1;32m      2\u001b[0m \u001b[0mu_y\u001b[0m \u001b[0;34m=\u001b[0m \u001b[0;34m(\u001b[0m\u001b[0;36m200\u001b[0m\u001b[0;34m*\u001b[0m\u001b[0;36m0.034\u001b[0m\u001b[0;34m/\u001b[0m\u001b[0;36m2.\u001b[0m\u001b[0;34m)\u001b[0m\u001b[0;34m/\u001b[0m\u001b[0mnp\u001b[0m\u001b[0;34m.\u001b[0m\u001b[0msqrt\u001b[0m\u001b[0;34m(\u001b[0m\u001b[0;36m24\u001b[0m\u001b[0;34m)\u001b[0m \u001b[0;31m# Arduino vrijednost=100, pretvorena u cm, pretpostavka uniformne raspodjele\u001b[0m\u001b[0;34m\u001b[0m\u001b[0;34m\u001b[0m\u001b[0m\n\u001b[1;32m      3\u001b[0m \u001b[0mStupanjPolinoma\u001b[0m \u001b[0;34m=\u001b[0m \u001b[0;36m1\u001b[0m\u001b[0;34m\u001b[0m\u001b[0;34m\u001b[0m\u001b[0m\n\u001b[0;32m----> 4\u001b[0;31m \u001b[0mx\u001b[0m \u001b[0;34m=\u001b[0m \u001b[0mnp\u001b[0m\u001b[0;34m.\u001b[0m\u001b[0marray\u001b[0m\u001b[0;34m(\u001b[0m\u001b[0mtabl5_1\u001b[0m\u001b[0;34m.\u001b[0m\u001b[0mt\u001b[0m\u001b[0;34m)\u001b[0m\u001b[0;34m\u001b[0m\u001b[0;34m\u001b[0m\u001b[0m\n\u001b[0m\u001b[1;32m      5\u001b[0m \u001b[0my\u001b[0m \u001b[0;34m=\u001b[0m \u001b[0mnp\u001b[0m\u001b[0;34m.\u001b[0m\u001b[0marray\u001b[0m\u001b[0;34m(\u001b[0m\u001b[0mtabl5_1\u001b[0m\u001b[0;34m.\u001b[0m\u001b[0mx\u001b[0m\u001b[0;34m)\u001b[0m\u001b[0;34m\u001b[0m\u001b[0;34m\u001b[0m\u001b[0m\n\u001b[1;32m      6\u001b[0m \u001b[0mpar1\u001b[0m\u001b[0;34m,\u001b[0m \u001b[0mkov1\u001b[0m \u001b[0;34m=\u001b[0m \u001b[0mnp\u001b[0m\u001b[0;34m.\u001b[0m\u001b[0mpolyfit\u001b[0m\u001b[0;34m(\u001b[0m\u001b[0mx\u001b[0m\u001b[0;34m,\u001b[0m \u001b[0my\u001b[0m\u001b[0;34m,\u001b[0m \u001b[0mStupanjPolinoma\u001b[0m\u001b[0;34m,\u001b[0m \u001b[0mcov\u001b[0m\u001b[0;34m=\u001b[0m\u001b[0;32mTrue\u001b[0m\u001b[0;34m)\u001b[0m\u001b[0;34m\u001b[0m\u001b[0;34m\u001b[0m\u001b[0m\n",
            "\u001b[0;31mNameError\u001b[0m: name 'tabl5_1' is not defined"
          ]
        }
      ],
      "source": [
        "#  NISU POTREBNE IZMJENE ! -----------------------------\n",
        "u_y = (200*0.034/2.)/np.sqrt(24) # Arduino vrijednost=100, pretvorena u cm, pretpostavka uniformne raspodjele\n",
        "StupanjPolinoma = 1\n",
        "x = np.array(tabl5_1.t)\n",
        "y = np.array(tabl5_1.x)\n",
        "par1, kov1 = np.polyfit(x, y, StupanjPolinoma, cov=True)\n",
        "fig, ax = plt.subplots(figsize=(10,5))\n",
        "ax.errorbar(x,y,yerr=u_y,fmt=\"o\",label='podatci',alpha=0.7)\n",
        "polinom = np.poly1d(par1)\n",
        "ax.plot(x,polinom(x),\"--\",linewidth=2, color='red',label='model: pravac', zorder=10)\n",
        "ax.set(xlabel='$t$ (s))', ylabel='$x$ (cm)',title='')\n",
        "ax.legend(loc='lower right')\n",
        "plt.show()\n",
        "plt.close(fig)\n",
        "print(\"koeficijent uz x = \",par1[0],\" ± \",  np.sqrt(kov1[0][0]))\n",
        "print(\"odsječak         = \",par1[1],\" ± \",  np.sqrt(kov1[1][1]))\n",
        "chi2_red = sum(((polinom(x) - y)/u_y)**2)/(len(x)-StupanjPolinoma-1)\n",
        "print(\"chi2/d.o.f.=\",chi2_red)"
      ]
    },
    {
      "cell_type": "markdown",
      "metadata": {
        "id": "4N9rta_mO8d5"
      },
      "source": [
        "<div style =  \"background-color:#cce698\">\n",
        "**Zadatak 8a**: Što zaključujete o modelu linearne ovisnosti $y$ o $x$ na temelju gornjeg grafa i $\\chi^2_{red}$?\n",
        "</div>"
      ]
    },
    {
      "cell_type": "markdown",
      "metadata": {
        "id": "QC55CDYWO8d5"
      },
      "source": [
        "--> Već je okom vidljivo da to nije dobar model, a reducirani $\\chi^2$ puno veći od 1 nam daje numeričku vrijednost na kojoj možemo temeljiti ovaj zaključak."
      ]
    },
    {
      "cell_type": "markdown",
      "metadata": {
        "id": "n9i3VuGQO8d5"
      },
      "source": [
        "### 5.2. Možemo li mjerenja opisati kvadratnom ovisnošću prijeđenog puta o vremenu (parabola, tj. polinom drugog stupnja)?\n",
        "\n",
        "Provjerimo kako model $y(x_i) = a + b x_i + c x_i^2$ opisuje mjerenja."
      ]
    },
    {
      "cell_type": "markdown",
      "metadata": {
        "id": "01td_RZXO8d5"
      },
      "source": [
        "<div style =  \"background-color:#cce698\">\n",
        "**Zadatak 8b**: Provjerite koliko dobro parabola opisuje mjerenja. Ima li poboljšanja u odnosu na pravac?\n",
        "</div>"
      ]
    },
    {
      "cell_type": "code",
      "execution_count": null,
      "metadata": {
        "id": "6iRHdjC5O8d5"
      },
      "outputs": [],
      "source": [
        "#  NISU POTREBNE IZMJENE ! -----------------------------\n",
        "StupanjPolinoma = 2\n",
        "x = np.array(tabl5_1.t)\n",
        "y = np.array(tabl5_1.x)\n",
        "par1, kov1 = np.polyfit(x, y, StupanjPolinoma, cov=True)\n",
        "fig, ax = plt.subplots(figsize=(10,5))\n",
        "ax.errorbar(x,y,yerr=u_y,fmt=\"o\",label='podatci',alpha=0.7)\n",
        "polinom = np.poly1d(par1)\n",
        "ax.plot(x,polinom(x),\"--\",linewidth=2, label='model: parabola', zorder=10,color='red')\n",
        "ax.set(ylabel='$t$ (s)',\n",
        "    xlabel='$x$ (cm)',\n",
        "    title='')\n",
        "ax.legend(loc='lower right')\n",
        "plt.show()\n",
        "plt.close(fig)\n",
        "print(\"koeficijent uz x**2 = \",par1[0],\" ± \",  np.sqrt(kov1[0][0]))\n",
        "print(\"koeficijent uz x    = \",par1[1],\" ± \",  np.sqrt(kov1[1][1]))\n",
        "print(\"odsječak            = \",par1[2],\" ± \",  np.sqrt(kov1[2][2]))\n",
        "chi2_red = sum(((polinom(x) - y)/u_y)**2)/(len(x)-StupanjPolinoma-1)\n",
        "print(\"chi2/d.o.f.=\",chi2_red)"
      ]
    },
    {
      "cell_type": "markdown",
      "metadata": {
        "id": "IAtdZT__O8d6"
      },
      "source": [
        "--> Okom je vidljivo da to prilično dobar model.\n",
        "\n",
        "--> Da li dobivena vrijednost reduciranog $\\chi^2$ opravdava uvođenje još jednog parametra, odnosno povećanje stupnja polinoma za funkciju prilagodbe?"
      ]
    }
  ],
  "metadata": {
    "kernelspec": {
      "display_name": "Python 3 (ipykernel)",
      "language": "python",
      "name": "python3"
    },
    "language_info": {
      "codemirror_mode": {
        "name": "ipython",
        "version": 3
      },
      "file_extension": ".py",
      "mimetype": "text/x-python",
      "name": "python",
      "nbconvert_exporter": "python",
      "pygments_lexer": "ipython3",
      "version": "3.9.7"
    },
    "colab": {
      "name": "FizLab-Exp1_Stat_obrada_mjerenja-2022-withMOODLE.ipynb",
      "provenance": [],
      "include_colab_link": true
    }
  },
  "nbformat": 4,
  "nbformat_minor": 0
}